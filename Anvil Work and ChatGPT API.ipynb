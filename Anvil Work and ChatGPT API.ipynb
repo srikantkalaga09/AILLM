{
  "nbformat": 4,
  "nbformat_minor": 0,
  "metadata": {
    "colab": {
      "provenance": [],
      "authorship_tag": "ABX9TyNSKpgoxQdmW1D8E8ndBZLD",
      "include_colab_link": true
    },
    "kernelspec": {
      "name": "python3",
      "display_name": "Python 3"
    },
    "language_info": {
      "name": "python"
    }
  },
  "cells": [
    {
      "cell_type": "markdown",
      "metadata": {
        "id": "view-in-github",
        "colab_type": "text"
      },
      "source": [
        "<a href=\"https://colab.research.google.com/github/PradipNichite/Youtube-Tutorials/blob/main/Anvil%20Work%20and%20ChatGPT%20API.ipynb\" target=\"_parent\"><img src=\"https://colab.research.google.com/assets/colab-badge.svg\" alt=\"Open In Colab\"/></a>"
      ]
    },
    {
      "cell_type": "code",
      "execution_count": 5,
      "metadata": {
        "id": "FPFjuhkyYiOw"
      },
      "outputs": [],
      "source": [
        "!pip install openai -q"
      ]
    },
    {
      "cell_type": "code",
      "source": [
        "import openai\n",
        "openai.api_key = \"open ai key\"\n",
        "\n",
        "\n",
        "def generate_description(input):\n",
        "    messages = [\n",
        "        {\"role\": \"system\",\n",
        "         \"content\": \"\"\"As a Product Description Generator, Generate multi paragraph rich text product description with emojis from the information provided to you' \\n\"\"\"},\n",
        "    ]\n",
        "\n",
        "    messages.append({\"role\": \"user\", \"content\": f\"{input}\"})\n",
        "    completion = openai.ChatCompletion.create(\n",
        "        model=\"gpt-3.5-turbo\",\n",
        "        messages=messages\n",
        "    )\n",
        "    reply = completion.choices[0].message.content\n",
        "    return reply\n"
      ],
      "metadata": {
        "id": "G8XKoPqvYneq"
      },
      "execution_count": 8,
      "outputs": []
    },
    {
      "cell_type": "code",
      "source": [
        "product_name = \"MCover\"\n",
        "notes = \"Multi Colour, Affordable, Robust covers for mobiles\"\n",
        "\n",
        "input = f'The product name is {product_name} and the product notes are {notes}.'\n",
        "print(input)\n",
        "print(generate_description(input))"
      ],
      "metadata": {
        "colab": {
          "base_uri": "https://localhost:8080/"
        },
        "id": "XIMgZiAcZI1M",
        "outputId": "4658cd51-a314-4872-d68c-98f8d5954c16"
      },
      "execution_count": 9,
      "outputs": [
        {
          "output_type": "stream",
          "name": "stdout",
          "text": [
            "The product name is MCover and the product notes are Multi Colour, Affordable, Robust covers for mobiles.\n",
            "📱 Introducing MCover - the ultimate protective case for your mobile phone!\n",
            "\n",
            "🌈 With a variety of colours to choose from, you can now add a pop of personality to your mobile device. The MCover comes in a range of eye-catching shades that will surely match your style.\n",
            "\n",
            "💰 And the best part? You can enjoy the benefits of a quality mobile cover without breaking the bank. Our covers are affordable, so you can protect your device without compromising your budget.\n",
            "\n",
            "💪 But don't let the cost fool you - the MCover is tough enough to withstand accidental drops, bumps and scratches. Our robust design keeps your phone safe and secure, so you don't have to worry about any damage caused by everyday wear and tear.\n",
            "\n",
            "🏙️ Whether you're in the city or on-the-go, the MCover will keep your mobile device protected from the elements. And with its slim and sleek design, your phone will still remain stylish and easy to handle.\n",
            "\n",
            "⚠️ Don't leave your mobile phone's safety up to chance. Invest in an MCover today and enjoy the peace of mind that comes with knowing your device is safe and sound.\n"
          ]
        }
      ]
    },
    {
      "cell_type": "markdown",
      "source": [
        "https://anvil.works/articles/anvil-vs-streamlit\n",
        "\n",
        "https://anvil.works/docs/server/custom-packages\n",
        "\n",
        "https://anvil.works/pricing"
      ],
      "metadata": {
        "id": "WkCeBMQdaCOq"
      }
    },
    {
      "cell_type": "markdown",
      "source": [
        "Product Name: CarProtect\n",
        "\n",
        "Notes:\n",
        "Multi Colour, Affordable, Robust for cars\n",
        "\n",
        "Product Name: MCover\n",
        "\n",
        "Notes:\n",
        "`Multi Colour, Affordable, Robust covers for mobiles`"
      ],
      "metadata": {
        "id": "HIpBdBYejn9g"
      }
    },
    {
      "cell_type": "markdown",
      "source": [
        "Form1 Code"
      ],
      "metadata": {
        "id": "FX65r7rrxNwd"
      }
    },
    {
      "cell_type": "code",
      "source": [
        "from ._anvil_designer import Form1Template\n",
        "from anvil import *\n",
        "import anvil.server\n",
        "\n",
        "class Form1(Form1Template):\n",
        "  def __init__(self, **properties):\n",
        "    # Set Form properties and Data Bindings.\n",
        "    self.init_components(**properties)\n",
        "\n",
        "    # Any code you write here will run before the form opens.\n",
        "\n",
        "  def button_1_click(self, **event_args):\n",
        "    \"\"\"This method is called when the button is clicked\"\"\"\n",
        "    product_name = self.text_box_1.text\n",
        "    notes = self.text_area_1.text\n",
        "    input = f'The product name is {product_name} and the product notes are {notes}.'\n",
        "    description = anvil.server.call('generate_description', input)\n",
        "    self.rich_text_2.content = description\n",
        "\n",
        "  def text_box_1_pressed_enter(self, **event_args):\n",
        "    \"\"\"This method is called when the user presses Enter in this text box\"\"\"\n",
        "    pass\n"
      ],
      "metadata": {
        "id": "2vn7Nqg0xFI7"
      },
      "execution_count": null,
      "outputs": []
    },
    {
      "cell_type": "markdown",
      "source": [
        "*ServerModule1*"
      ],
      "metadata": {
        "id": "Gw7A0GRLxP4M"
      }
    },
    {
      "cell_type": "code",
      "source": [
        "import anvil.server\n",
        "\n",
        "# This is a server module. It runs on the Anvil server,\n",
        "# rather than in the user's browser.\n",
        "#\n",
        "# To allow anvil.server.call() to call functions here, we mark\n",
        "# them with @anvil.server.callable.\n",
        "# Here is an example - you can replace it with your own:\n",
        "#\n",
        "import openai\n",
        "openai.api_key = \"\"\n",
        "\n",
        "@anvil.server.callable\n",
        "def generate_description(input):\n",
        "    messages = [\n",
        "        {\"role\": \"system\",\n",
        "         \"content\": \"\"\"As a Product Description Generator, Generate multi paragraph rich text product description with emojis from the information provided to you' \\n\"\"\"},\n",
        "    ]\n",
        "\n",
        "    messages.append({\"role\": \"user\", \"content\": f\"{input}\"})\n",
        "    completion = openai.ChatCompletion.create(\n",
        "        model=\"gpt-3.5-turbo\",\n",
        "        messages=messages\n",
        "    )\n",
        "    reply = completion.choices[0].message.content\n",
        "    return reply\n",
        "\n"
      ],
      "metadata": {
        "id": "32n6F5KRxV7G"
      },
      "execution_count": null,
      "outputs": []
    }
  ]
}