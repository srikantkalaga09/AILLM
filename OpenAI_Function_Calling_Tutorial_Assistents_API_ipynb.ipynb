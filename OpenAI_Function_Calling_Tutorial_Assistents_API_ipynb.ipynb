{
  "nbformat": 4,
  "nbformat_minor": 0,
  "metadata": {
    "colab": {
      "provenance": [],
      "authorship_tag": "ABX9TyOXVtRBHS1DKZ2YBdK4U4Ud",
      "include_colab_link": true
    },
    "kernelspec": {
      "name": "python3",
      "display_name": "Python 3"
    },
    "language_info": {
      "name": "python"
    }
  },
  "cells": [
    {
      "cell_type": "markdown",
      "metadata": {
        "id": "view-in-github",
        "colab_type": "text"
      },
      "source": [
        "<a href=\"https://colab.research.google.com/github/PradipNichite/Youtube-Tutorials/blob/main/OpenAI_Function_Calling_Tutorial_Assistents_API_ipynb.ipynb\" target=\"_parent\"><img src=\"https://colab.research.google.com/assets/colab-badge.svg\" alt=\"Open In Colab\"/></a>"
      ]
    },
    {
      "cell_type": "code",
      "execution_count": 1,
      "metadata": {
        "id": "pE9gwyxNac-L"
      },
      "outputs": [],
      "source": [
        "!pip install openai -q"
      ]
    },
    {
      "cell_type": "code",
      "source": [
        "from openai import OpenAI\n",
        "import json\n",
        "import time\n",
        "client = OpenAI(\n",
        "    # defaults to os.environ.get(\"OPENAI_API_KEY\")\n",
        "    api_key=\"key\",\n",
        ")"
      ],
      "metadata": {
        "id": "0fRk3QNSamV8"
      },
      "execution_count": 2,
      "outputs": []
    },
    {
      "cell_type": "markdown",
      "source": [
        "Function to get order details"
      ],
      "metadata": {
        "id": "77mQD_I09hEQ"
      }
    },
    {
      "cell_type": "code",
      "source": [
        "import requests\n",
        "import json\n",
        "\n",
        "def get_order_details(order_id):\n",
        "    # URL of the API endpoint\n",
        "    url = \"http://44.203.99.19:8005/order_info_without_auth\"\n",
        "\n",
        "    # Parameters to be sent in the query string\n",
        "    params = {'order_id': order_id}\n",
        "\n",
        "    # Headers for the request\n",
        "    headers = {'accept': 'application/json'}\n",
        "\n",
        "    # Making the POST request\n",
        "    response = requests.post(url, headers=headers, params=params)\n",
        "\n",
        "    # Checking if the request was successful\n",
        "    if response.status_code == 200:\n",
        "        # Parsing the JSON response\n",
        "        result = response.json()\n",
        "        return result['Result'][0]\n",
        "    else:\n",
        "        return f\"Error: Unable to fetch order details. Status code: {response.status_code}\"\n",
        "\n",
        "order_details = get_order_details(order_id=4)\n",
        "print(order_details)\n",
        "\n",
        "\n",
        "available_functions = {\n",
        "    \"get_order_details\": get_order_details,\n",
        "}"
      ],
      "metadata": {
        "colab": {
          "base_uri": "https://localhost:8080/"
        },
        "id": "q7lezwTYbrmq",
        "outputId": "49bc0267-310a-48e6-f1c3-24382d28e29e"
      },
      "execution_count": 4,
      "outputs": [
        {
          "output_type": "stream",
          "name": "stdout",
          "text": [
            "{'order_id': 4, 'total_amount': 299.99, 'delivery_status': 'Shipped', 'current_location': 'Warehouse B', 'expected_delivery_date': '2023-01-18', 'customer_name': 'Alice Brown', 'product_id': 4, 'product_name': 'Tablet'}\n"
          ]
        }
      ]
    },
    {
      "cell_type": "code",
      "source": [
        "functions = [\n",
        "    {\n",
        "        \"name\": \"get_order_details\",\n",
        "        \"description\": \"Retrieves the details of an order given its order ID.\",\n",
        "        \"parameters\": {\n",
        "            \"type\": \"object\",\n",
        "            \"properties\": {\n",
        "                \"order_id\": {\n",
        "                    \"type\": \"integer\",\n",
        "                    \"description\": \"The unique identifier of the order.\",\n",
        "                }\n",
        "            },\n",
        "            \"required\": [\"order_id\"],\n",
        "        },\n",
        "    }\n",
        "]"
      ],
      "metadata": {
        "id": "LffRXr2lbWj9"
      },
      "execution_count": 8,
      "outputs": []
    },
    {
      "cell_type": "code",
      "source": [
        "def get_gpt_response(messages):\n",
        "\n",
        "  chat_completion = client.chat.completions.create(\n",
        "      model=\"gpt-3.5-turbo-1106\",\n",
        "      messages=messages,\n",
        "      functions = functions,\n",
        "      function_call=\"auto\",\n",
        "  )\n",
        "  return chat_completion"
      ],
      "metadata": {
        "id": "nbzqHKaBFEEM"
      },
      "execution_count": 5,
      "outputs": []
    },
    {
      "cell_type": "markdown",
      "source": [
        "Execute Function"
      ],
      "metadata": {
        "id": "AKvys6iD91GO"
      }
    },
    {
      "cell_type": "code",
      "source": [
        "def execute_function_call(function_name,arguments):\n",
        "    function = available_functions.get(function_name,None)\n",
        "    if function:\n",
        "        arguments = json.loads(arguments)\n",
        "        results = function(**arguments)\n",
        "    else:\n",
        "        results = f\"Error: function {function_name} does not exist\"\n",
        "    return results"
      ],
      "metadata": {
        "id": "rOclPTBYd21o"
      },
      "execution_count": 6,
      "outputs": []
    },
    {
      "cell_type": "code",
      "source": [
        "# query = \"Tell me joke\"\n",
        "# query = \"I want to know my order status\"\n",
        "query = \"what is my order status of order id 4\"\n",
        "messages = [\n",
        "    {\n",
        "        \"role\": \"user\",\n",
        "        \"content\": query\n",
        "    }\n",
        "]\n",
        "response = get_gpt_response(messages)\n",
        "print(response.choices[0].message)"
      ],
      "metadata": {
        "colab": {
          "base_uri": "https://localhost:8080/"
        },
        "id": "DbwwbNGzFIWQ",
        "outputId": "3efe14ac-b86c-4945-9daa-0008a831b1ba"
      },
      "execution_count": 11,
      "outputs": [
        {
          "output_type": "stream",
          "name": "stdout",
          "text": [
            "ChatCompletionMessage(content=None, role='assistant', function_call=FunctionCall(arguments='{\"order_id\":4}', name='get_order_details'), tool_calls=None)\n"
          ]
        }
      ]
    },
    {
      "cell_type": "code",
      "source": [
        "function_name = response.choices[0].message.function_call.name\n",
        "arguments = response.choices[0].message.function_call.arguments\n",
        "print(function_name,arguments)"
      ],
      "metadata": {
        "colab": {
          "base_uri": "https://localhost:8080/"
        },
        "id": "zLSl78f5FZc5",
        "outputId": "2ed51ea4-6ff2-45e5-f799-254a6b9f0f3e"
      },
      "execution_count": 12,
      "outputs": [
        {
          "output_type": "stream",
          "name": "stdout",
          "text": [
            "get_order_details {\"order_id\":4}\n"
          ]
        }
      ]
    },
    {
      "cell_type": "code",
      "source": [
        "function_response = execute_function_call(function_name,arguments)\n",
        "function_response"
      ],
      "metadata": {
        "colab": {
          "base_uri": "https://localhost:8080/"
        },
        "id": "OUd7l1tCFlW_",
        "outputId": "6b715bc1-f9c0-49dd-8dc4-a88ff426d44a"
      },
      "execution_count": 13,
      "outputs": [
        {
          "output_type": "execute_result",
          "data": {
            "text/plain": [
              "{'order_id': 4,\n",
              " 'total_amount': 299.99,\n",
              " 'delivery_status': 'Shipped',\n",
              " 'current_location': 'Warehouse B',\n",
              " 'expected_delivery_date': '2023-01-18',\n",
              " 'customer_name': 'Alice Brown',\n",
              " 'product_id': 4,\n",
              " 'product_name': 'Tablet'}"
            ]
          },
          "metadata": {},
          "execution_count": 13
        }
      ]
    },
    {
      "cell_type": "code",
      "source": [
        "messages"
      ],
      "metadata": {
        "colab": {
          "base_uri": "https://localhost:8080/"
        },
        "id": "GHrYmagAF461",
        "outputId": "40e3255e-dbc1-4119-aa17-e3440fb668a0"
      },
      "execution_count": 14,
      "outputs": [
        {
          "output_type": "execute_result",
          "data": {
            "text/plain": [
              "[{'role': 'user', 'content': 'what is my order status of order id 4'}]"
            ]
          },
          "metadata": {},
          "execution_count": 14
        }
      ]
    },
    {
      "cell_type": "code",
      "source": [
        "messages.append(response.choices[0].message)  # extend conversation with assistant's reply\n",
        "messages.append(\n",
        "    {\n",
        "        \"role\": \"function\",\n",
        "        \"name\": function_name,\n",
        "        \"content\": str(function_response),\n",
        "    }\n",
        ")\n",
        "messages"
      ],
      "metadata": {
        "colab": {
          "base_uri": "https://localhost:8080/"
        },
        "id": "8FirW-oNFsDY",
        "outputId": "7007d159-b510-45cd-b09d-3e547b73ebbd"
      },
      "execution_count": 15,
      "outputs": [
        {
          "output_type": "execute_result",
          "data": {
            "text/plain": [
              "[{'role': 'user', 'content': 'what is my order status of order id 4'},\n",
              " ChatCompletionMessage(content=None, role='assistant', function_call=FunctionCall(arguments='{\"order_id\":4}', name='get_order_details'), tool_calls=None),\n",
              " {'role': 'function',\n",
              "  'name': 'get_order_details',\n",
              "  'content': \"{'order_id': 4, 'total_amount': 299.99, 'delivery_status': 'Shipped', 'current_location': 'Warehouse B', 'expected_delivery_date': '2023-01-18', 'customer_name': 'Alice Brown', 'product_id': 4, 'product_name': 'Tablet'}\"}]"
            ]
          },
          "metadata": {},
          "execution_count": 15
        }
      ]
    },
    {
      "cell_type": "code",
      "source": [
        "resposne = get_gpt_response(messages)\n",
        "print(resposne.choices[0].message.content)"
      ],
      "metadata": {
        "colab": {
          "base_uri": "https://localhost:8080/"
        },
        "id": "amj0lK8XGe-I",
        "outputId": "2b323e53-0ebf-4f2e-eb2b-b1a33ee4bcca"
      },
      "execution_count": 16,
      "outputs": [
        {
          "output_type": "stream",
          "name": "stdout",
          "text": [
            "The order with ID 4 is for a Tablet with a total amount of $299.99. The order has been shipped and is currently at Warehouse B. The expected delivery date is 2023-01-18. The customer's name is Alice Brown.\n"
          ]
        }
      ]
    },
    {
      "cell_type": "markdown",
      "source": [
        "Tools for assistent"
      ],
      "metadata": {
        "id": "SrZaQEvB9qxM"
      }
    },
    {
      "cell_type": "code",
      "source": [
        "tools = [\n",
        "    {\n",
        "        \"type\": \"function\",\n",
        "        \"function\": {\n",
        "            \"name\": \"get_order_details\",\n",
        "            \"description\": \"Retrieves the details of an order given its order ID.\",\n",
        "            \"parameters\": {\n",
        "                \"type\": \"object\",\n",
        "                \"properties\": {\n",
        "                    \"order_id\": {\n",
        "                        \"type\": \"integer\",\n",
        "                        \"description\": \"The unique identifier of the order.\"\n",
        "                    }\n",
        "                },\n",
        "                \"required\": [\"order_id\"]\n",
        "            }\n",
        "        }\n",
        "    }\n",
        "]"
      ],
      "metadata": {
        "id": "aKt9LcoPE7_I"
      },
      "execution_count": 17,
      "outputs": []
    },
    {
      "cell_type": "markdown",
      "source": [
        "Create Assistent"
      ],
      "metadata": {
        "id": "aR9zyxUq9ohg"
      }
    },
    {
      "cell_type": "code",
      "source": [
        "assistant = client.beta.assistants.create(\n",
        "  name=\"Ecommerce bot\",\n",
        "  instructions=\"You are an ecommerce bot. Use the provided functions to answer questions. Synthesise answer based on provided function output and be consise\",\n",
        "  model=\"gpt-4-1106-preview\",\n",
        "  tools = tools\n",
        ")"
      ],
      "metadata": {
        "id": "-LjU4NP7bTqk"
      },
      "execution_count": 18,
      "outputs": []
    },
    {
      "cell_type": "markdown",
      "source": [
        "Create Message inside Thread and Run"
      ],
      "metadata": {
        "id": "nVehdHS39ugw"
      }
    },
    {
      "cell_type": "code",
      "source": [
        "def create_message_and_run(assistant,query,thread=None):\n",
        "  if not thread:\n",
        "    thread = client.beta.threads.create()\n",
        "\n",
        "  message = client.beta.threads.messages.create(\n",
        "    thread_id=thread.id,\n",
        "    role=\"user\",\n",
        "    content=query\n",
        "  )\n",
        "  run = client.beta.threads.runs.create(\n",
        "  thread_id=thread.id,\n",
        "  assistant_id=assistant.id\n",
        "  )\n",
        "  return run,thread"
      ],
      "metadata": {
        "id": "ZyefUo4Jrhgi"
      },
      "execution_count": 19,
      "outputs": []
    },
    {
      "cell_type": "markdown",
      "source": [
        "Get Deatils of functions to be called"
      ],
      "metadata": {
        "id": "AkNSKjW395-t"
      }
    },
    {
      "cell_type": "code",
      "source": [
        "def get_function_details(run):\n",
        "\n",
        "  print(\"\\nrun.required_action\\n\",run.required_action)\n",
        "\n",
        "  function_name = run.required_action.submit_tool_outputs.tool_calls[0].function.name\n",
        "  arguments = run.required_action.submit_tool_outputs.tool_calls[0].function.arguments\n",
        "  function_id = run.required_action.submit_tool_outputs.tool_calls[0].id\n",
        "\n",
        "  print(f\"function_name: {function_name} and arguments: {arguments}\")\n",
        "\n",
        "  return function_name, arguments, function_id"
      ],
      "metadata": {
        "id": "sVkD02pI4YTX"
      },
      "execution_count": 20,
      "outputs": []
    },
    {
      "cell_type": "markdown",
      "source": [
        "Sumit Function Response"
      ],
      "metadata": {
        "id": "23ePmfQP-BX2"
      }
    },
    {
      "cell_type": "code",
      "source": [
        "def submit_tool_outputs(run,thread,function_id,function_response):\n",
        "    run = client.beta.threads.runs.submit_tool_outputs(\n",
        "    thread_id=thread.id,\n",
        "    run_id=run.id,\n",
        "    tool_outputs=[\n",
        "      {\n",
        "        \"tool_call_id\": function_id,\n",
        "        \"output\": str(function_response),\n",
        "      }\n",
        "    ]\n",
        "    )\n",
        "    return run"
      ],
      "metadata": {
        "id": "7IbU92g04w9E"
      },
      "execution_count": 21,
      "outputs": []
    },
    {
      "cell_type": "code",
      "source": [
        "query = \"I want to know my order status\"\n",
        "run,thread = create_message_and_run(assistant=assistant,query=query)"
      ],
      "metadata": {
        "id": "TIKrzLgtfeLm"
      },
      "execution_count": 22,
      "outputs": []
    },
    {
      "cell_type": "code",
      "source": [
        "run"
      ],
      "metadata": {
        "colab": {
          "base_uri": "https://localhost:8080/"
        },
        "id": "A9VcAPY_8KVN",
        "outputId": "b3b53601-a71e-4772-b9db-988a950d54f1"
      },
      "execution_count": 23,
      "outputs": [
        {
          "output_type": "execute_result",
          "data": {
            "text/plain": [
              "Run(id='run_HVzBWoqZJmLb4XDgbT1klfSh', assistant_id='asst_kSjlvDlOuVAP1qRCQ8HrEfmW', cancelled_at=None, completed_at=None, created_at=1700341647, expires_at=1700342247, failed_at=None, file_ids=[], instructions='You are an ecommerce bot. Use the provided functions to answer questions. Synthesise answer based on provided function output and be consise', last_error=None, metadata={}, model='gpt-4-1106-preview', object='thread.run', required_action=None, started_at=None, status='queued', thread_id='thread_a28MVsGD8GZUhhUCVCPO8uHt', tools=[ToolAssistantToolsFunction(function=FunctionDefinition(name='get_order_details', parameters={'type': 'object', 'properties': {'order_id': {'type': 'integer', 'description': 'The unique identifier of the order.'}}, 'required': ['order_id']}, description='Retrieves the details of an order given its order ID.'), type='function')])"
            ]
          },
          "metadata": {},
          "execution_count": 23
        }
      ]
    },
    {
      "cell_type": "code",
      "source": [
        "while True:\n",
        "    run = client.beta.threads.runs.retrieve(thread_id=thread.id, run_id=run.id)\n",
        "    print(\"run status\", run.status)\n",
        "\n",
        "    if run.status==\"requires_action\":\n",
        "\n",
        "        function_name, arguments, function_id  = get_function_details(run)\n",
        "\n",
        "        function_response = execute_function_call(function_name,arguments)\n",
        "\n",
        "        run = submit_tool_outputs(run,thread,function_id,function_response)\n",
        "\n",
        "        continue\n",
        "    if run.status==\"completed\":\n",
        "\n",
        "        messages = client.beta.threads.messages.list(thread_id=thread.id)\n",
        "        latest_message = messages.data[0]\n",
        "        text = latest_message.content[0].text.value\n",
        "        print(text)\n",
        "\n",
        "        user_input = input()\n",
        "        if user_input == \"STOP\":\n",
        "          break\n",
        "\n",
        "        run,thread = create_message_and_run(assistant=assistant,query=user_input,thread=thread)\n",
        "\n",
        "        continue;\n",
        "    time.sleep(1)"
      ],
      "metadata": {
        "colab": {
          "base_uri": "https://localhost:8080/"
        },
        "id": "M_lpN4MtcOXD",
        "outputId": "0245229d-12d9-48e7-85b8-d3e62c30c55e"
      },
      "execution_count": 24,
      "outputs": [
        {
          "name": "stdout",
          "output_type": "stream",
          "text": [
            "run status completed\n",
            "To help you with your order status, I will need the order ID. Please provide the order ID associated with the purchase you are inquiring about.\n",
            "order id is 1\n",
            "run status queued\n",
            "run status requires_action\n",
            "\n",
            "run.required_action\n",
            " RequiredAction(submit_tool_outputs=RequiredActionSubmitToolOutputs(tool_calls=[RequiredActionFunctionToolCall(id='call_SOy0g26dzHmNG6HS4qobEUvk', function=Function(arguments='{\"order_id\":1}', name='get_order_details'), type='function')]), type='submit_tool_outputs')\n",
            "function_name: get_order_details and arguments: {\"order_id\":1}\n",
            "run status queued\n",
            "run status in_progress\n",
            "run status in_progress\n",
            "run status completed\n",
            "The order with ID 1 has the following status:\n",
            "\n",
            "- Delivery Status: Shipped\n",
            "- Current Location: Warehouse A\n",
            "- Expected Delivery Date: 2023-01-10\n",
            "\n",
            "The order consists of a laptop, and the total amount for this order is $999.99. If you have any more questions or need further assistance, feel free to ask!\n",
            "when can i expect delivery\n",
            "run status queued\n",
            "run status in_progress\n",
            "run status in_progress\n",
            "run status completed\n",
            "You can expect the delivery of your order with ID 1 by the expected delivery date, which is January 10, 2023. Please note that delivery times may vary due to shipping and handling procedures, so it's always a good idea to track your order for any updates closer to the delivery date.\n",
            "STOP\n"
          ]
        }
      ]
    },
    {
      "cell_type": "code",
      "source": [],
      "metadata": {
        "id": "Ab5bsdmxfJTi"
      },
      "execution_count": null,
      "outputs": []
    }
  ]
}