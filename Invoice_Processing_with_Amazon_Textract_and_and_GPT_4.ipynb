{
  "nbformat": 4,
  "nbformat_minor": 0,
  "metadata": {
    "colab": {
      "provenance": [],
      "authorship_tag": "ABX9TyNlPHmse0wKuEd47Upa6m5t",
      "include_colab_link": true
    },
    "kernelspec": {
      "name": "python3",
      "display_name": "Python 3"
    },
    "language_info": {
      "name": "python"
    }
  },
  "cells": [
    {
      "cell_type": "markdown",
      "metadata": {
        "id": "view-in-github",
        "colab_type": "text"
      },
      "source": [
        "<a href=\"https://colab.research.google.com/github/PradipNichite/Youtube-Tutorials/blob/main/Invoice_Processing_with_Amazon_Textract_and_and_GPT_4.ipynb\" target=\"_parent\"><img src=\"https://colab.research.google.com/assets/colab-badge.svg\" alt=\"Open In Colab\"/></a>"
      ]
    },
    {
      "cell_type": "code",
      "source": [
        "!pip install boto3  openai -q "
      ],
      "metadata": {
        "id": "A0Y6dgq94Xch"
      },
      "execution_count": null,
      "outputs": []
    },
    {
      "cell_type": "code",
      "source": [
        "import openai\n",
        "import boto3\n",
        "openai.api_key = \"sk-HUu\""
      ],
      "metadata": {
        "id": "PoNehKba8NU4"
      },
      "execution_count": null,
      "outputs": []
    },
    {
      "cell_type": "code",
      "source": [
        "client = boto3.client('textract',region_name='us-east-1',aws_access_key_id='',aws_secret_access_key='')"
      ],
      "metadata": {
        "id": "0hCjSA6Uw7DD"
      },
      "execution_count": 3,
      "outputs": []
    },
    {
      "cell_type": "code",
      "source": [
        "filename = \"/content/invoice.png\"\n",
        "from PIL import Image, ImageDraw\n",
        "image=Image.open(filename)\n",
        "image"
      ],
      "metadata": {
        "id": "QQU3qNAK0BNv"
      },
      "execution_count": null,
      "outputs": []
    },
    {
      "cell_type": "code",
      "source": [
        "with open(filename, 'rb') as image:\n",
        "    img = bytearray(image.read())\n",
        "\n",
        "\n",
        "response = client.detect_document_text(\n",
        "    Document={'Bytes': img}\n",
        ")\n",
        "response"
      ],
      "metadata": {
        "id": "jOEIzabe06HG"
      },
      "execution_count": null,
      "outputs": []
    },
    {
      "cell_type": "code",
      "source": [
        "response"
      ],
      "metadata": {
        "id": "f4KmzLrqGTMm"
      },
      "execution_count": null,
      "outputs": []
    },
    {
      "cell_type": "code",
      "source": [
        "ocr_text = \"\"\n",
        "for item in response[\"Blocks\"]:\n",
        "    if item[\"BlockType\"] == \"LINE\":\n",
        "        # print (item[\"Text\"])\n",
        "        ocr_text = ocr_text + \" \"+item[\"Text\"]\n",
        "ocr_text                "
      ],
      "metadata": {
        "colab": {
          "base_uri": "https://localhost:8080/",
          "height": 87
        },
        "id": "TusaXwV53YaC",
        "outputId": "5e880573-f6f8-4e7c-af64-bd7fd7fe8604"
      },
      "execution_count": 7,
      "outputs": [
        {
          "output_type": "execute_result",
          "data": {
            "text/plain": [
              "' 06/10/2021 K Company INVO-005 Name Sample Invoice Billing Information Shipping Information Company Name Name ABC Company John Smith Sam K. Smith Address Address 111 Pine Street, Suite 1815 111 Pine Street, Suite 1815 San Francisco, CA, 94111 San Francisco, CA, 94111 Phone Number (123) 123-1232 Email John@example.com Description Quantity Unit Price Total Product/Service 1 Sink 2 100 $200 Product/Service 2 Nest Smart Filter 1 150 $150 Product/Service 3 Labor Fee 1 50 $50 Product/Service 4 Service Fee 1 25 $25 Total: $425 1'"
            ],
            "application/vnd.google.colaboratory.intrinsic+json": {
              "type": "string"
            }
          },
          "metadata": {},
          "execution_count": 7
        }
      ]
    },
    {
      "cell_type": "code",
      "source": [
        "prompt= f\"\"\"Extract entities and thier values as a key-value pair from the provided OCR text and seperate them by a new line.\n",
        "Text:{ocr_text} \n",
        "Entities:\"\"\"\n",
        "print(prompt)"
      ],
      "metadata": {
        "colab": {
          "base_uri": "https://localhost:8080/"
        },
        "id": "w5jJqbfI4jZA",
        "outputId": "6bc67cc2-59c1-469c-85ea-6786ed78c389"
      },
      "execution_count": 8,
      "outputs": [
        {
          "output_type": "stream",
          "name": "stdout",
          "text": [
            "Extract entities and thier values as a key-value pair from the provided OCR text and seperate them by a new line.\n",
            "Text: 06/10/2021 K Company INVO-005 Name Sample Invoice Billing Information Shipping Information Company Name Name ABC Company John Smith Sam K. Smith Address Address 111 Pine Street, Suite 1815 111 Pine Street, Suite 1815 San Francisco, CA, 94111 San Francisco, CA, 94111 Phone Number (123) 123-1232 Email John@example.com Description Quantity Unit Price Total Product/Service 1 Sink 2 100 $200 Product/Service 2 Nest Smart Filter 1 150 $150 Product/Service 3 Labor Fee 1 50 $50 Product/Service 4 Service Fee 1 25 $25 Total: $425 1 \n",
            "Entities:\n"
          ]
        }
      ]
    },
    {
      "cell_type": "code",
      "source": [
        "#Get The Response\n",
        "gpt3_response= openai.Completion.create(\n",
        "model=\"text-davinci-003\",\n",
        "    prompt=prompt,\n",
        "    temperature=0,\n",
        "    max_tokens=500,\n",
        "    top_p=1,\n",
        "    frequency_penalty=0,\n",
        "    presence_penalty=0\n",
        ")\n",
        "print(gpt3_response[\"choices\"][0][\"text\"])"
      ],
      "metadata": {
        "colab": {
          "base_uri": "https://localhost:8080/"
        },
        "id": "1WJNxYCB5AFw",
        "outputId": "87b8d0ef-5545-49d9-a5d5-8e193a3d7a23"
      },
      "execution_count": 9,
      "outputs": [
        {
          "output_type": "stream",
          "name": "stdout",
          "text": [
            " \n",
            "Date: 06/10/2021 \n",
            "Company Name: K Company \n",
            "Invoice Number: INVO-005 \n",
            "Name: Sample Invoice \n",
            "Billing Information Company Name: ABC Company \n",
            "Billing Information Name: John Smith \n",
            "Shipping Information Name: Sam K. Smith \n",
            "Billing Information Address: 111 Pine Street, Suite 1815 \n",
            "Shipping Information Address: 111 Pine Street, Suite 1815 \n",
            "Billing Information City: San Francisco \n",
            "Shipping Information City: San Francisco \n",
            "Billing Information State: CA \n",
            "Shipping Information State: CA \n",
            "Billing Information Zip Code: 94111 \n",
            "Shipping Information Zip Code: 94111 \n",
            "Billing Information Phone Number: (123) 123-1232 \n",
            "Billing Information Email: John@example.com \n",
            "Product/Service 1: Sink \n",
            "Product/Service 1 Quantity: 2 \n",
            "Product/Service 1 Unit Price: 100 \n",
            "Product/Service 1 Total: $200 \n",
            "Product/Service 2: Nest Smart Filter \n",
            "Product/Service 2 Quantity: 1 \n",
            "Product/Service 2 Unit Price: 150 \n",
            "Product/Service 2 Total: $150 \n",
            "Product/Service 3: Labor Fee \n",
            "Product/Service 3 Quantity: 1 \n",
            "Product/Service 3 Unit Price: 50 \n",
            "Product/Service 3 Total: $50 \n",
            "Product/Service 4: Service Fee \n",
            "Product/Service 4 Quantity: 1 \n",
            "Product/Service 4 Unit Price: 25 \n",
            "Product/Service 4 Total: $25 \n",
            "Total: $425\n"
          ]
        }
      ]
    },
    {
      "cell_type": "code",
      "source": [
        "system_role=\"Extract entities and thier values as a key-value pair from the provided OCR text and seperate them by a new line.\"\n",
        "gpt4_response = openai.ChatCompletion.create(\n",
        "    model=\"gpt-4\",\n",
        "    messages=[\n",
        "        {\"role\":\"system\",\"content\":system_role},\n",
        "        {\"role\":\"user\",\"content\":ocr_text} #pass the OCR Text obtained from Amazon Textract\n",
        "    ]\n",
        ")\n",
        "print(gpt4_response[\"choices\"][0][\"message\"][\"content\"])"
      ],
      "metadata": {
        "colab": {
          "base_uri": "https://localhost:8080/"
        },
        "id": "35BYYiqO6sTF",
        "outputId": "6b9d72c9-a90c-4c42-b68c-a32f2426c94a"
      },
      "execution_count": 10,
      "outputs": [
        {
          "output_type": "stream",
          "name": "stdout",
          "text": [
            "Date: 06/10/2021\n",
            "Invoice Number: INVO-005\n",
            "CompanyName: K Company\n",
            "Name: Sample Invoice\n",
            "Billing Name: ABC Company\n",
            "Billing Address: 111 Pine Street, Suite 1815, San Francisco, CA, 94111\n",
            "Billing Phone Number: (123) 123-1232\n",
            "Shipping Name: John Smith Sam K. Smith\n",
            "Shipping Address: 111 Pine Street, Suite 1815, San Francisco, CA, 94111\n",
            "Email: John@example.com\n",
            "Product/Service 1: Sink\n",
            "Quantity 1: 2\n",
            "Unit Price 1: 100\n",
            "Total 1: $200\n",
            "Product/Service 2: Nest Smart Filter\n",
            "Quantity 2: 1\n",
            "Unit Price 2: 150\n",
            "Total 2: $150\n",
            "Product/Service 3: Labor Fee\n",
            "Quantity 3: 1\n",
            "Unit Price 3: 50\n",
            "Total 3: $50\n",
            "Product/Service 4: Service Fee\n",
            "Quantity 4: 1\n",
            "Unit Price 4: 25\n",
            "Total 4: $25\n",
            "Invoice Total: $425\n"
          ]
        }
      ]
    },
    {
      "cell_type": "markdown",
      "source": [],
      "metadata": {
        "id": "ZurX-2GyBo6O"
      }
    },
    {
      "cell_type": "code",
      "source": [
        "system_role=\"Extract company name and invoice number as a key-value pair from the provided OCR text and seperate them by a new line.\"\n",
        "gpt4_response = openai.ChatCompletion.create(\n",
        "    model=\"gpt-4\",\n",
        "    messages=[\n",
        "        {\"role\":\"system\",\"content\":system_role},\n",
        "        {\"role\":\"user\",\"content\":ocr_text} #pass the OCR Text obtained from Amazon Textract\n",
        "    ]\n",
        ")\n",
        "print(gpt4_response[\"choices\"][0][\"message\"][\"content\"])"
      ],
      "metadata": {
        "colab": {
          "base_uri": "https://localhost:8080/"
        },
        "id": "r58fe1ow66lk",
        "outputId": "93bf21be-ae82-43b8-9018-420a922f190d"
      },
      "execution_count": 11,
      "outputs": [
        {
          "output_type": "stream",
          "name": "stdout",
          "text": [
            "Company Name: ABC Company\n",
            "Invoice Number: INVO-005\n"
          ]
        }
      ]
    },
    {
      "cell_type": "code",
      "source": [
        "system_role=\"You are AI Asistsnt who helps answers questions based on providec ocr text\"\n",
        "gpt4_response = openai.ChatCompletion.create(\n",
        "    model=\"gpt-4\",\n",
        "    messages=[\n",
        "        {\"role\":\"system\",\"content\":system_role},\n",
        "        {\"role\":\"user\",\"content\":\"OCR Text: \"+ocr_text},\n",
        "        {\"role\":\"user\",\"content\":\"What is total order?\"} #pass the OCR Text obtained from Amazon Textract\n",
        "    ]\n",
        ")\n",
        "gpt4_response[\"choices\"][0][\"message\"][\"content\"]"
      ],
      "metadata": {
        "colab": {
          "base_uri": "https://localhost:8080/",
          "height": 35
        },
        "id": "eSo10zE15qco",
        "outputId": "f14be29b-9695-4a7c-b6bc-19b4cbad8da9"
      },
      "execution_count": 12,
      "outputs": [
        {
          "output_type": "execute_result",
          "data": {
            "text/plain": [
              "'The total order amount is $425.'"
            ],
            "application/vnd.google.colaboratory.intrinsic+json": {
              "type": "string"
            }
          },
          "metadata": {},
          "execution_count": 12
        }
      ]
    },
    {
      "cell_type": "code",
      "source": [
        "system_role=\"You are AI Asistsnt who helps answers questions based on providec ocr text\"\n",
        "gpt4_response = openai.ChatCompletion.create(\n",
        "    model=\"gpt-4\",\n",
        "    messages=[\n",
        "        {\"role\":\"system\",\"content\":system_role},\n",
        "        {\"role\":\"user\",\"content\":\"OCR Text: \"+ocr_text},\n",
        "        {\"role\":\"user\",\"content\":\"How many units sold for service 1\"} #pass the OCR Text obtained from Amazon Textract\n",
        "    ]\n",
        ")\n",
        "gpt4_response[\"choices\"][0][\"message\"][\"content\"]"
      ],
      "metadata": {
        "colab": {
          "base_uri": "https://localhost:8080/",
          "height": 35
        },
        "id": "ohcFF2Fu-9pI",
        "outputId": "53a5b850-12c6-4efd-9b64-1129a77022f8"
      },
      "execution_count": 13,
      "outputs": [
        {
          "output_type": "execute_result",
          "data": {
            "text/plain": [
              "'Service 1, which is for the Sink, sold 2 units.'"
            ],
            "application/vnd.google.colaboratory.intrinsic+json": {
              "type": "string"
            }
          },
          "metadata": {},
          "execution_count": 13
        }
      ]
    },
    {
      "cell_type": "code",
      "source": [],
      "metadata": {
        "id": "jG_5mPKs_awo"
      },
      "execution_count": null,
      "outputs": []
    }
  ]
}