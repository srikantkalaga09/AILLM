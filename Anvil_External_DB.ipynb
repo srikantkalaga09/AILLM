{
  "nbformat": 4,
  "nbformat_minor": 0,
  "metadata": {
    "colab": {
      "provenance": [],
      "authorship_tag": "ABX9TyOfY1iLLknX3Ou/dXAtShSy",
      "include_colab_link": true
    },
    "kernelspec": {
      "name": "python3",
      "display_name": "Python 3"
    },
    "language_info": {
      "name": "python"
    }
  },
  "cells": [
    {
      "cell_type": "markdown",
      "metadata": {
        "id": "view-in-github",
        "colab_type": "text"
      },
      "source": [
        "<a href=\"https://colab.research.google.com/github/PradipNichite/Youtube-Tutorials/blob/main/Anvil_External_DB.ipynb\" target=\"_parent\"><img src=\"https://colab.research.google.com/assets/colab-badge.svg\" alt=\"Open In Colab\"/></a>"
      ]
    },
    {
      "cell_type": "code",
      "source": [
        "!pip install pymysql"
      ],
      "metadata": {
        "colab": {
          "base_uri": "https://localhost:8080/"
        },
        "id": "fgCd1jbdc-U-",
        "outputId": "d3f37eee-80f8-40f8-ca67-2277572739f1"
      },
      "execution_count": null,
      "outputs": [
        {
          "output_type": "stream",
          "name": "stdout",
          "text": [
            "Looking in indexes: https://pypi.org/simple, https://us-python.pkg.dev/colab-wheels/public/simple/\n",
            "Collecting pymysql\n",
            "  Downloading PyMySQL-1.0.3-py3-none-any.whl (43 kB)\n",
            "\u001b[2K     \u001b[90m━━━━━━━━━━━━━━━━━━━━━━━━━━━━━━━━━━━━━━━━\u001b[0m \u001b[32m43.7/43.7 kB\u001b[0m \u001b[31m2.4 MB/s\u001b[0m eta \u001b[36m0:00:00\u001b[0m\n",
            "\u001b[?25hInstalling collected packages: pymysql\n",
            "Successfully installed pymysql-1.0.3\n"
          ]
        }
      ]
    },
    {
      "cell_type": "code",
      "source": [
        "connection = create_connection()\n",
        "connection"
      ],
      "metadata": {
        "colab": {
          "base_uri": "https://localhost:8080/"
        },
        "id": "yLYqWMUgdCKp",
        "outputId": "ff91a8f3-59ff-466f-8278-f54f7c294f34"
      },
      "execution_count": null,
      "outputs": [
        {
          "output_type": "execute_result",
          "data": {
            "text/plain": [
              "<mysql.connector.connection_cext.CMySQLConnection at 0x7f23d345d150>"
            ]
          },
          "metadata": {},
          "execution_count": 5
        }
      ]
    },
    {
      "cell_type": "code",
      "source": [
        "import pymysql\n",
        "\n",
        "rds_host  = \"db_host\"\n",
        "db_username = \"db_username\"\n",
        "db_password = \"db_password\"\n",
        "db_name = \"db_name\"\n",
        "\n",
        "def connect():\n",
        "  connection = pymysql.connect(host=rds_host,\n",
        "                             user=db_username,\n",
        "                             password=db_password,\n",
        "                             db=db_name,\n",
        "                             cursorclass=pymysql.cursors.DictCursor)\n",
        "  return connection\n",
        "connect()"
      ],
      "metadata": {
        "colab": {
          "base_uri": "https://localhost:8080/"
        },
        "id": "AATvWjS2dH79",
        "outputId": "39e3c059-e7ec-4dde-bbce-af133c0f9796"
      },
      "execution_count": null,
      "outputs": [
        {
          "output_type": "execute_result",
          "data": {
            "text/plain": [
              "<pymysql.connections.Connection at 0x7f23a0583340>"
            ]
          },
          "metadata": {},
          "execution_count": 16
        }
      ]
    },
    {
      "cell_type": "code",
      "source": [
        "# @anvil.server.callable\n",
        "def get_customers():\n",
        "  conn = connect()\n",
        "  with conn.cursor() as cur:\n",
        "    cur.execute(\"SELECT customerNumber,customerName,country FROM `customers`\")\n",
        "    return cur.fetchall()\n",
        "customers = get_customers()\n",
        "customers[0:2]"
      ],
      "metadata": {
        "colab": {
          "base_uri": "https://localhost:8080/"
        },
        "id": "VR5yB-s9dryQ",
        "outputId": "2a7092ea-9d53-445c-ea66-92d714db0659"
      },
      "execution_count": null,
      "outputs": [
        {
          "output_type": "execute_result",
          "data": {
            "text/plain": [
              "[{'customerNumber': 103,\n",
              "  'customerName': 'Atelier graphique',\n",
              "  'country': 'France'},\n",
              " {'customerNumber': 112,\n",
              "  'customerName': 'Signal Gift Stores',\n",
              "  'country': 'USA'}]"
            ]
          },
          "metadata": {},
          "execution_count": 17
        }
      ]
    },
    {
      "cell_type": "code",
      "source": [],
      "metadata": {
        "id": "PmpS6RqneNQO"
      },
      "execution_count": null,
      "outputs": []
    }
  ]
}