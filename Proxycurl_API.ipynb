{
  "nbformat": 4,
  "nbformat_minor": 0,
  "metadata": {
    "colab": {
      "provenance": [],
      "authorship_tag": "ABX9TyNIdmBXKjD/ozhgBXbxu0LA",
      "include_colab_link": true
    },
    "kernelspec": {
      "name": "python3",
      "display_name": "Python 3"
    },
    "language_info": {
      "name": "python"
    }
  },
  "cells": [
    {
      "cell_type": "markdown",
      "metadata": {
        "id": "view-in-github",
        "colab_type": "text"
      },
      "source": [
        "<a href=\"https://colab.research.google.com/github/PradipNichite/Youtube-Tutorials/blob/main/Proxycurl_API.ipynb\" target=\"_parent\"><img src=\"https://colab.research.google.com/assets/colab-badge.svg\" alt=\"Open In Colab\"/></a>"
      ]
    },
    {
      "cell_type": "markdown",
      "source": [
        "###Proxycurl API is a LinkedIn Profile Scraping API\n",
        "\n",
        "**Use Cases:**\n",
        "\n",
        "Building Data Driven Applications. (Lead Generation, Prospecting etc)\n",
        "\n",
        "Eg. Leveraging NLP like GPT-3 to Write Personalize Email , Message, LinkedIn Invitation based on their profile info like Occuption, Experince, Summary etc\n",
        "\n"
      ],
      "metadata": {
        "id": "1Y4A8_YBRPUT"
      }
    },
    {
      "cell_type": "markdown",
      "source": [
        "https://nubela.co/proxycurl/linkedin"
      ],
      "metadata": {
        "id": "yVE-f8jaMhM0"
      }
    },
    {
      "cell_type": "markdown",
      "source": [],
      "metadata": {
        "id": "6oB6xcAYRVnl"
      }
    },
    {
      "cell_type": "code",
      "execution_count": 1,
      "metadata": {
        "id": "YDuNussNMRz4"
      },
      "outputs": [],
      "source": [
        "import requests\n",
        "api_endpoint = 'https://nubela.co/proxycurl/api/v2/linkedin'\n",
        "linkedin_profile_url = 'https://www.linkedin.com/in/pradipnichite/'\n",
        "api_key = ''\n",
        "headers = {'Authorization': 'Bearer ' + api_key}\n",
        "\n",
        "response = requests.get(api_endpoint,\n",
        "                        params={'url': linkedin_profile_url,'skills': 'include'},\n",
        "                        headers=headers)"
      ]
    },
    {
      "cell_type": "code",
      "source": [
        "profile_data = response.json()\n",
        "profile_data"
      ],
      "metadata": {
        "id": "uzC4ZKBTOINR"
      },
      "execution_count": null,
      "outputs": []
    },
    {
      "cell_type": "markdown",
      "source": [
        "API Documentation : https://nubela.co/proxycurl/docs#people-api-person-profile-endpoint"
      ],
      "metadata": {
        "id": "pL7dSyRrQ92R"
      }
    },
    {
      "cell_type": "code",
      "source": [
        "profile_data.keys()"
      ],
      "metadata": {
        "colab": {
          "base_uri": "https://localhost:8080/"
        },
        "id": "IkJz8IfzOYUz",
        "outputId": "928c9b21-29ee-4491-d4d7-71a5df53884a"
      },
      "execution_count": 3,
      "outputs": [
        {
          "output_type": "execute_result",
          "data": {
            "text/plain": [
              "dict_keys(['public_identifier', 'profile_pic_url', 'background_cover_image_url', 'first_name', 'last_name', 'full_name', 'occupation', 'headline', 'summary', 'country', 'country_full_name', 'city', 'state', 'experiences', 'education', 'languages', 'accomplishment_organisations', 'accomplishment_publications', 'accomplishment_honors_awards', 'accomplishment_patents', 'accomplishment_courses', 'accomplishment_projects', 'accomplishment_test_scores', 'volunteer_work', 'certifications', 'connections', 'people_also_viewed', 'recommendations', 'activities', 'similarly_named_profiles', 'articles', 'groups', 'skills'])"
            ]
          },
          "metadata": {},
          "execution_count": 3
        }
      ]
    },
    {
      "cell_type": "code",
      "source": [
        "profile_data['full_name']"
      ],
      "metadata": {
        "colab": {
          "base_uri": "https://localhost:8080/",
          "height": 35
        },
        "id": "gFy1plfyOhvU",
        "outputId": "029ce97b-3a69-41f1-9059-8a40d5f9e789"
      },
      "execution_count": 4,
      "outputs": [
        {
          "output_type": "execute_result",
          "data": {
            "text/plain": [
              "'Pradip Nichite'"
            ],
            "application/vnd.google.colaboratory.intrinsic+json": {
              "type": "string"
            }
          },
          "metadata": {},
          "execution_count": 4
        }
      ]
    },
    {
      "cell_type": "code",
      "source": [
        "profile_data['occupation']"
      ],
      "metadata": {
        "colab": {
          "base_uri": "https://localhost:8080/",
          "height": 35
        },
        "id": "G8OLSSvRO8ED",
        "outputId": "86986785-7f2d-46cb-86bd-cce97ffb9d4c"
      },
      "execution_count": 5,
      "outputs": [
        {
          "output_type": "execute_result",
          "data": {
            "text/plain": [
              "'Freelance Data Scientist at Upwork'"
            ],
            "application/vnd.google.colaboratory.intrinsic+json": {
              "type": "string"
            }
          },
          "metadata": {},
          "execution_count": 5
        }
      ]
    },
    {
      "cell_type": "code",
      "source": [
        "profile_data['headline']"
      ],
      "metadata": {
        "colab": {
          "base_uri": "https://localhost:8080/",
          "height": 35
        },
        "id": "OXW9VVTePDiL",
        "outputId": "18f0f458-020a-44d1-c352-67c29c64dcea"
      },
      "execution_count": 6,
      "outputs": [
        {
          "output_type": "execute_result",
          "data": {
            "text/plain": [
              "'Freelance Data Scientist | Custom NLP Solutions | Consultant | GPT-3 | Amazon Lex Chatbot'"
            ],
            "application/vnd.google.colaboratory.intrinsic+json": {
              "type": "string"
            }
          },
          "metadata": {},
          "execution_count": 6
        }
      ]
    },
    {
      "cell_type": "code",
      "source": [
        "print(profile_data['summary'])"
      ],
      "metadata": {
        "colab": {
          "base_uri": "https://localhost:8080/"
        },
        "id": "D8Dt0L3XPFOb",
        "outputId": "99043e97-94a9-46f8-b5ef-669394350b2c"
      },
      "execution_count": 7,
      "outputs": [
        {
          "output_type": "stream",
          "name": "stdout",
          "text": [
            "Top Rated Freelancer on Upwork, delivered multiple end-to-end NLP projects, leveraging Transformers, GPT-3, Spacy, Amazon Lex chatbots, AWS, etc.\n",
            "\n",
            "✅ Machine Learning Engineer with 7+ years of experience in (Machine Learning, NLP, Big Data, and Back-End Development). M.Tech I.T. with specialization in Data Science with 9.2/10 CGPA.\n",
            "\n",
            "✅ Experience building end-to-end machine learning systems using Natural Language Processing and MLOps.\n",
            "\n",
            "✅ During my M. Tech, I Studied Machine Learning, Deep Learning, and its applications to NLP and Computer vision.\n",
            "\n",
            "✅ In the Past, I have worked as a Software Developer and developed back-end and ReST API for web applications.\n",
            "\n",
            "Skills:\n",
            "\n",
            "Languages: Python, JavaScript, SQL.\n",
            "\n",
            "ML Libraries: Pandas, Scikit learn, Spacy, Gensim, Pytorch, Transformers, Rasa, Haystack.\n",
            "\n",
            "Other: AWS, Flask,  FastAPI, GPT-3\n",
            "\n",
            "Book a time with Pradip at https://topmate.io/ML \n",
            "1:1 Mentorship | Mock Interview For Data Scientist and ML Engineer\n"
          ]
        }
      ]
    },
    {
      "cell_type": "code",
      "source": [
        "profile_data['experiences']"
      ],
      "metadata": {
        "id": "0DOUACD_QEhg"
      },
      "execution_count": null,
      "outputs": []
    },
    {
      "cell_type": "code",
      "source": [
        "profile_data['experiences'][2]"
      ],
      "metadata": {
        "colab": {
          "base_uri": "https://localhost:8080/"
        },
        "id": "7eOAQf0XPJrq",
        "outputId": "224ce9cb-cd2a-47ef-f76c-76e79cd854f5"
      },
      "execution_count": 9,
      "outputs": [
        {
          "output_type": "execute_result",
          "data": {
            "text/plain": [
              "{'starts_at': {'day': 1, 'month': 9, 'year': 2021},\n",
              " 'ends_at': {'day': 28, 'month': 2, 'year': 2022},\n",
              " 'company': 'Oracle',\n",
              " 'company_linkedin_profile_url': 'https://in.linkedin.com/company/oracle',\n",
              " 'title': 'Tech Lead - Data Science',\n",
              " 'description': 'Machine Learning Solutions for Oracle Cloud Products.',\n",
              " 'location': None,\n",
              " 'logo_url': 'https://media-exp1.licdn.com/dms/image/D4E0BAQHYCgYovUuPtQ/company-logo_100_100/0/1665755678671?e=2147483647&v=beta&t=BBjGBVZ-kcxvjwTFPVNymoU4ilfvgMSDDovXm5R2lS4'}"
            ]
          },
          "metadata": {},
          "execution_count": 9
        }
      ]
    },
    {
      "cell_type": "code",
      "source": [
        "profile_data['education']"
      ],
      "metadata": {
        "colab": {
          "base_uri": "https://localhost:8080/"
        },
        "id": "W4NUiPh1PPqT",
        "outputId": "c4ddf152-1b9a-4643-e78b-f219a31a74d2"
      },
      "execution_count": 10,
      "outputs": [
        {
          "output_type": "execute_result",
          "data": {
            "text/plain": [
              "[{'starts_at': {'day': 1, 'month': 1, 'year': 2016},\n",
              "  'ends_at': {'day': 31, 'month': 12, 'year': 2018},\n",
              "  'field_of_study': 'Data Science',\n",
              "  'degree_name': 'Master of Technology - MTech',\n",
              "  'school': 'International Institute of Information Technology – Bangalore',\n",
              "  'school_linkedin_profile_url': 'https://in.linkedin.com/school/iiit-bangalore/',\n",
              "  'description': 'M.Tech I.T. with specialization in Data Science with 9.2/10 CGPA. Studied Machine Learning, Deep Learning, and its applications to NLP and Computer vision.',\n",
              "  'logo_url': 'https://media-exp1.licdn.com/dms/image/D560BAQFEoOigRO63qg/company-logo_100_100/0/1664105399908?e=2147483647&v=beta&t=03DZ93PTiwSrLhIQxVBzn-jrxo_Vo6tk1QCR4FayWkQ',\n",
              "  'grade': None,\n",
              "  'activities_and_societies': None},\n",
              " {'starts_at': {'day': 1, 'month': 1, 'year': 2009},\n",
              "  'ends_at': {'day': 31, 'month': 12, 'year': 2013},\n",
              "  'field_of_study': 'Information Technology',\n",
              "  'degree_name': 'Bachelor of Technology (B.Tech.)',\n",
              "  'school': 'Dr.Babasaheb Ambedkar Technological University, Lonere - Raigad',\n",
              "  'school_linkedin_profile_url': 'https://in.linkedin.com/school/dr.babasaheb-ambedkar-technological-university-lonere---raigad/',\n",
              "  'description': 'B.Tech In Information Technology',\n",
              "  'logo_url': None,\n",
              "  'grade': None,\n",
              "  'activities_and_societies': None},\n",
              " {'starts_at': {'day': 1, 'month': 1, 'year': 2004},\n",
              "  'ends_at': {'day': 31, 'month': 12, 'year': 2009},\n",
              "  'field_of_study': None,\n",
              "  'degree_name': 'Science',\n",
              "  'school': 'G.V.Khade Vidyalaya Shahapur,Thane,Maharashtra',\n",
              "  'school_linkedin_profile_url': None,\n",
              "  'description': None,\n",
              "  'logo_url': None,\n",
              "  'grade': None,\n",
              "  'activities_and_societies': None}]"
            ]
          },
          "metadata": {},
          "execution_count": 10
        }
      ]
    },
    {
      "cell_type": "code",
      "source": [
        "profile_data['education'][0]"
      ],
      "metadata": {
        "colab": {
          "base_uri": "https://localhost:8080/"
        },
        "id": "FlLpCfcTQH1S",
        "outputId": "e2d8062c-fcf7-4a56-94cc-c59df0362f42"
      },
      "execution_count": 11,
      "outputs": [
        {
          "output_type": "execute_result",
          "data": {
            "text/plain": [
              "{'starts_at': {'day': 1, 'month': 1, 'year': 2016},\n",
              " 'ends_at': {'day': 31, 'month': 12, 'year': 2018},\n",
              " 'field_of_study': 'Data Science',\n",
              " 'degree_name': 'Master of Technology - MTech',\n",
              " 'school': 'International Institute of Information Technology – Bangalore',\n",
              " 'school_linkedin_profile_url': 'https://in.linkedin.com/school/iiit-bangalore/',\n",
              " 'description': 'M.Tech I.T. with specialization in Data Science with 9.2/10 CGPA. Studied Machine Learning, Deep Learning, and its applications to NLP and Computer vision.',\n",
              " 'logo_url': 'https://media-exp1.licdn.com/dms/image/D560BAQFEoOigRO63qg/company-logo_100_100/0/1664105399908?e=2147483647&v=beta&t=03DZ93PTiwSrLhIQxVBzn-jrxo_Vo6tk1QCR4FayWkQ',\n",
              " 'grade': None,\n",
              " 'activities_and_societies': None}"
            ]
          },
          "metadata": {},
          "execution_count": 11
        }
      ]
    },
    {
      "cell_type": "code",
      "source": [
        "profile_data['skills']"
      ],
      "metadata": {
        "colab": {
          "base_uri": "https://localhost:8080/"
        },
        "id": "1a34za_4QLHy",
        "outputId": "43b0224a-7f36-4bc5-9e1c-24585b2fcf5f"
      },
      "execution_count": 12,
      "outputs": [
        {
          "output_type": "execute_result",
          "data": {
            "text/plain": [
              "['ad targeting',\n",
              " 'adtech',\n",
              " 'algorithms',\n",
              " 'amazon web services',\n",
              " 'analytics',\n",
              " 'apache spark',\n",
              " 'artificial intelligence',\n",
              " 'automl',\n",
              " 'aws elastic beanstalk',\n",
              " 'big data analytics',\n",
              " 'computer vision',\n",
              " 'continuous integration and continuous delivery',\n",
              " 'data analysis',\n",
              " 'data cleaning',\n",
              " 'data modeling',\n",
              " 'data preparation',\n",
              " 'data processing',\n",
              " 'data products',\n",
              " 'data science',\n",
              " 'databricks',\n",
              " 'flask',\n",
              " 'hadoop',\n",
              " 'hive',\n",
              " 'html',\n",
              " 'java',\n",
              " 'javascript',\n",
              " 'jenkins',\n",
              " 'jquery',\n",
              " 'keras',\n",
              " 'linux',\n",
              " 'machine learning',\n",
              " 'martech',\n",
              " 'mathematics',\n",
              " 'mysql',\n",
              " 'natural language processing',\n",
              " 'numpy',\n",
              " 'pandas',\n",
              " 'php',\n",
              " 'predictive modeling',\n",
              " 'product analysis',\n",
              " 'python',\n",
              " 'representational state transfer',\n",
              " 'scala',\n",
              " 'scalable machine learning',\n",
              " 'scikit learn',\n",
              " 'software development',\n",
              " 'spark',\n",
              " 'sql',\n",
              " 'tensorflow',\n",
              " 'web scraping']"
            ]
          },
          "metadata": {},
          "execution_count": 12
        }
      ]
    },
    {
      "cell_type": "code",
      "source": [],
      "metadata": {
        "id": "tIyJWjXuWLcT"
      },
      "execution_count": null,
      "outputs": []
    }
  ]
}