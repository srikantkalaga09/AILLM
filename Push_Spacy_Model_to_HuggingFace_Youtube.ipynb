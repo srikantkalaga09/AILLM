{
  "nbformat": 4,
  "nbformat_minor": 0,
  "metadata": {
    "colab": {
      "provenance": [],
      "mount_file_id": "1AvKfOPzV7NZmfmVjCpHB839eMCOagbnE",
      "authorship_tag": "ABX9TyNYymk8/PFiht9L9b6WcEtz",
      "include_colab_link": true
    },
    "kernelspec": {
      "name": "python3",
      "display_name": "Python 3"
    },
    "language_info": {
      "name": "python"
    }
  },
  "cells": [
    {
      "cell_type": "markdown",
      "metadata": {
        "id": "view-in-github",
        "colab_type": "text"
      },
      "source": [
        "<a href=\"https://colab.research.google.com/github/PradipNichite/Youtube-Tutorials/blob/main/Push_Spacy_Model_to_HuggingFace_Youtube.ipynb\" target=\"_parent\"><img src=\"https://colab.research.google.com/assets/colab-badge.svg\" alt=\"Open In Colab\"/></a>"
      ]
    },
    {
      "cell_type": "code",
      "execution_count": 1,
      "metadata": {
        "id": "UyzP7ftPqzwQ"
      },
      "outputs": [],
      "source": [
        "import spacy"
      ]
    },
    {
      "cell_type": "code",
      "source": [
        "ner_model = spacy.load('ner_model')"
      ],
      "metadata": {
        "id": "YkYz34KjrjRd"
      },
      "execution_count": 2,
      "outputs": []
    },
    {
      "cell_type": "code",
      "source": [
        "doc = ner_model(\"While bismuth compounds (Pepto-Bismol) decreased the number of bowel movements in those with travelers' diarrhea, they do not decrease the length of illness.[91] Anti-motility agents like loperamide are also effective at reducing the number of stools but not the duration of disease.[8] These agents should be used only if bloody diarrhea is not present.\")\n",
        "\n",
        "colors = {\"PATHOGEN\": \"#F67DE3\", \"MEDICINE\": \"#7DF6D9\", \"MEDICALCONDITION\":\"#a6e22d\"}\n",
        "options = {\"colors\": colors} \n",
        "\n",
        "spacy.displacy.render(doc, style=\"ent\", options= options, jupyter=True)"
      ],
      "metadata": {
        "colab": {
          "base_uri": "https://localhost:8080/",
          "height": 122
        },
        "id": "WgCrX0QQrVZP",
        "outputId": "4d38b6ba-94b3-4f67-df0e-f4ca28b545c7"
      },
      "execution_count": 3,
      "outputs": [
        {
          "output_type": "display_data",
          "data": {
            "text/plain": [
              "<IPython.core.display.HTML object>"
            ],
            "text/html": [
              "<span class=\"tex2jax_ignore\"><div class=\"entities\" style=\"line-height: 2.5; direction: ltr\">While \n",
              "<mark class=\"entity\" style=\"background: #F67DE3; padding: 0.45em 0.6em; margin: 0 0.25em; line-height: 1; border-radius: 0.35em;\">\n",
              "    bismuth compounds\n",
              "    <span style=\"font-size: 0.8em; font-weight: bold; line-height: 1; border-radius: 0.35em; vertical-align: middle; margin-left: 0.5rem\">PATHOGEN</span>\n",
              "</mark>\n",
              " (\n",
              "<mark class=\"entity\" style=\"background: #F67DE3; padding: 0.45em 0.6em; margin: 0 0.25em; line-height: 1; border-radius: 0.35em;\">\n",
              "    Pepto-\n",
              "    <span style=\"font-size: 0.8em; font-weight: bold; line-height: 1; border-radius: 0.35em; vertical-align: middle; margin-left: 0.5rem\">PATHOGEN</span>\n",
              "</mark>\n",
              "Bismol) decreased the number of bowel movements in those with travelers' \n",
              "<mark class=\"entity\" style=\"background: #a6e22d; padding: 0.45em 0.6em; margin: 0 0.25em; line-height: 1; border-radius: 0.35em;\">\n",
              "    diarrhea\n",
              "    <span style=\"font-size: 0.8em; font-weight: bold; line-height: 1; border-radius: 0.35em; vertical-align: middle; margin-left: 0.5rem\">MEDICALCONDITION</span>\n",
              "</mark>\n",
              ", they do not decrease the length of illness.[91] Anti-motility agents like \n",
              "<mark class=\"entity\" style=\"background: #7DF6D9; padding: 0.45em 0.6em; margin: 0 0.25em; line-height: 1; border-radius: 0.35em;\">\n",
              "    loperamide\n",
              "    <span style=\"font-size: 0.8em; font-weight: bold; line-height: 1; border-radius: 0.35em; vertical-align: middle; margin-left: 0.5rem\">MEDICINE</span>\n",
              "</mark>\n",
              " are also effective at reducing the number of stools but not the duration of disease.[8] These agents should be used only if bloody diarrhea is not present.</div></span>"
            ]
          },
          "metadata": {}
        }
      ]
    },
    {
      "cell_type": "code",
      "source": [
        "# import shutil\n",
        "# shutil.rmtree('/content/output')"
      ],
      "metadata": {
        "id": "o2Ei-O8KuFw-"
      },
      "execution_count": 6,
      "outputs": []
    },
    {
      "cell_type": "code",
      "source": [
        "!python -m spacy package \"/content/ner_model\" \"/content/output\" --build wheel"
      ],
      "metadata": {
        "colab": {
          "base_uri": "https://localhost:8080/"
        },
        "id": "hc8UfKIerHoE",
        "outputId": "134c3cb5-2e33-42c7-8920-881204675a83"
      },
      "execution_count": 8,
      "outputs": [
        {
          "output_type": "stream",
          "name": "stdout",
          "text": [
            "2022-11-04 18:07:57.185893: E tensorflow/stream_executor/cuda/cuda_driver.cc:271] failed call to cuInit: CUDA_ERROR_NO_DEVICE: no CUDA-capable device is detected\n",
            "\u001b[38;5;4mℹ Building package artifacts: wheel\u001b[0m\n",
            "\u001b[38;5;2m✔ Loaded meta.json from file\u001b[0m\n",
            "/content/ner_model/meta.json\n",
            "\u001b[38;5;2m✔ Generated README.md from meta.json\u001b[0m\n",
            "\u001b[38;5;2m✔ Successfully created package directory 'en_yt_pipeline-0.0.0'\u001b[0m\n",
            "/content/output/en_yt_pipeline-0.0.0\n",
            "running bdist_wheel\n",
            "running build\n",
            "running build_py\n",
            "creating build\n",
            "creating build/lib\n",
            "creating build/lib/en_yt_pipeline\n",
            "copying en_yt_pipeline/__init__.py -> build/lib/en_yt_pipeline\n",
            "creating build/lib/en_yt_pipeline/en_yt_pipeline-0.0.0\n",
            "copying en_yt_pipeline/en_yt_pipeline-0.0.0/README.md -> build/lib/en_yt_pipeline/en_yt_pipeline-0.0.0\n",
            "copying en_yt_pipeline/en_yt_pipeline-0.0.0/meta.json -> build/lib/en_yt_pipeline/en_yt_pipeline-0.0.0\n",
            "copying en_yt_pipeline/en_yt_pipeline-0.0.0/tokenizer -> build/lib/en_yt_pipeline/en_yt_pipeline-0.0.0\n",
            "copying en_yt_pipeline/en_yt_pipeline-0.0.0/config.cfg -> build/lib/en_yt_pipeline/en_yt_pipeline-0.0.0\n",
            "creating build/lib/en_yt_pipeline/en_yt_pipeline-0.0.0/tok2vec\n",
            "copying en_yt_pipeline/en_yt_pipeline-0.0.0/tok2vec/cfg -> build/lib/en_yt_pipeline/en_yt_pipeline-0.0.0/tok2vec\n",
            "copying en_yt_pipeline/en_yt_pipeline-0.0.0/tok2vec/model -> build/lib/en_yt_pipeline/en_yt_pipeline-0.0.0/tok2vec\n",
            "creating build/lib/en_yt_pipeline/en_yt_pipeline-0.0.0/ner\n",
            "copying en_yt_pipeline/en_yt_pipeline-0.0.0/ner/cfg -> build/lib/en_yt_pipeline/en_yt_pipeline-0.0.0/ner\n",
            "copying en_yt_pipeline/en_yt_pipeline-0.0.0/ner/moves -> build/lib/en_yt_pipeline/en_yt_pipeline-0.0.0/ner\n",
            "copying en_yt_pipeline/en_yt_pipeline-0.0.0/ner/model -> build/lib/en_yt_pipeline/en_yt_pipeline-0.0.0/ner\n",
            "creating build/lib/en_yt_pipeline/en_yt_pipeline-0.0.0/vocab\n",
            "copying en_yt_pipeline/en_yt_pipeline-0.0.0/vocab/lookups.bin -> build/lib/en_yt_pipeline/en_yt_pipeline-0.0.0/vocab\n",
            "copying en_yt_pipeline/en_yt_pipeline-0.0.0/vocab/key2row -> build/lib/en_yt_pipeline/en_yt_pipeline-0.0.0/vocab\n",
            "copying en_yt_pipeline/en_yt_pipeline-0.0.0/vocab/vectors.cfg -> build/lib/en_yt_pipeline/en_yt_pipeline-0.0.0/vocab\n",
            "copying en_yt_pipeline/en_yt_pipeline-0.0.0/vocab/strings.json -> build/lib/en_yt_pipeline/en_yt_pipeline-0.0.0/vocab\n",
            "copying en_yt_pipeline/en_yt_pipeline-0.0.0/vocab/vectors -> build/lib/en_yt_pipeline/en_yt_pipeline-0.0.0/vocab\n",
            "copying en_yt_pipeline/meta.json -> build/lib/en_yt_pipeline\n",
            "installing to build/bdist.linux-x86_64/wheel\n",
            "running install\n",
            "running install_lib\n",
            "creating build/bdist.linux-x86_64\n",
            "creating build/bdist.linux-x86_64/wheel\n",
            "creating build/bdist.linux-x86_64/wheel/en_yt_pipeline\n",
            "copying build/lib/en_yt_pipeline/meta.json -> build/bdist.linux-x86_64/wheel/en_yt_pipeline\n",
            "creating build/bdist.linux-x86_64/wheel/en_yt_pipeline/en_yt_pipeline-0.0.0\n",
            "copying build/lib/en_yt_pipeline/en_yt_pipeline-0.0.0/README.md -> build/bdist.linux-x86_64/wheel/en_yt_pipeline/en_yt_pipeline-0.0.0\n",
            "creating build/bdist.linux-x86_64/wheel/en_yt_pipeline/en_yt_pipeline-0.0.0/tok2vec\n",
            "copying build/lib/en_yt_pipeline/en_yt_pipeline-0.0.0/tok2vec/cfg -> build/bdist.linux-x86_64/wheel/en_yt_pipeline/en_yt_pipeline-0.0.0/tok2vec\n",
            "copying build/lib/en_yt_pipeline/en_yt_pipeline-0.0.0/tok2vec/model -> build/bdist.linux-x86_64/wheel/en_yt_pipeline/en_yt_pipeline-0.0.0/tok2vec\n",
            "copying build/lib/en_yt_pipeline/en_yt_pipeline-0.0.0/meta.json -> build/bdist.linux-x86_64/wheel/en_yt_pipeline/en_yt_pipeline-0.0.0\n",
            "creating build/bdist.linux-x86_64/wheel/en_yt_pipeline/en_yt_pipeline-0.0.0/ner\n",
            "copying build/lib/en_yt_pipeline/en_yt_pipeline-0.0.0/ner/cfg -> build/bdist.linux-x86_64/wheel/en_yt_pipeline/en_yt_pipeline-0.0.0/ner\n",
            "copying build/lib/en_yt_pipeline/en_yt_pipeline-0.0.0/ner/moves -> build/bdist.linux-x86_64/wheel/en_yt_pipeline/en_yt_pipeline-0.0.0/ner\n",
            "copying build/lib/en_yt_pipeline/en_yt_pipeline-0.0.0/ner/model -> build/bdist.linux-x86_64/wheel/en_yt_pipeline/en_yt_pipeline-0.0.0/ner\n",
            "copying build/lib/en_yt_pipeline/en_yt_pipeline-0.0.0/tokenizer -> build/bdist.linux-x86_64/wheel/en_yt_pipeline/en_yt_pipeline-0.0.0\n",
            "copying build/lib/en_yt_pipeline/en_yt_pipeline-0.0.0/config.cfg -> build/bdist.linux-x86_64/wheel/en_yt_pipeline/en_yt_pipeline-0.0.0\n",
            "creating build/bdist.linux-x86_64/wheel/en_yt_pipeline/en_yt_pipeline-0.0.0/vocab\n",
            "copying build/lib/en_yt_pipeline/en_yt_pipeline-0.0.0/vocab/lookups.bin -> build/bdist.linux-x86_64/wheel/en_yt_pipeline/en_yt_pipeline-0.0.0/vocab\n",
            "copying build/lib/en_yt_pipeline/en_yt_pipeline-0.0.0/vocab/key2row -> build/bdist.linux-x86_64/wheel/en_yt_pipeline/en_yt_pipeline-0.0.0/vocab\n",
            "copying build/lib/en_yt_pipeline/en_yt_pipeline-0.0.0/vocab/vectors.cfg -> build/bdist.linux-x86_64/wheel/en_yt_pipeline/en_yt_pipeline-0.0.0/vocab\n",
            "copying build/lib/en_yt_pipeline/en_yt_pipeline-0.0.0/vocab/strings.json -> build/bdist.linux-x86_64/wheel/en_yt_pipeline/en_yt_pipeline-0.0.0/vocab\n",
            "copying build/lib/en_yt_pipeline/en_yt_pipeline-0.0.0/vocab/vectors -> build/bdist.linux-x86_64/wheel/en_yt_pipeline/en_yt_pipeline-0.0.0/vocab\n",
            "copying build/lib/en_yt_pipeline/__init__.py -> build/bdist.linux-x86_64/wheel/en_yt_pipeline\n",
            "running install_egg_info\n",
            "running egg_info\n",
            "creating en_yt_pipeline.egg-info\n",
            "writing en_yt_pipeline.egg-info/PKG-INFO\n",
            "writing dependency_links to en_yt_pipeline.egg-info/dependency_links.txt\n",
            "writing entry points to en_yt_pipeline.egg-info/entry_points.txt\n",
            "writing requirements to en_yt_pipeline.egg-info/requires.txt\n",
            "writing top-level names to en_yt_pipeline.egg-info/top_level.txt\n",
            "writing manifest file 'en_yt_pipeline.egg-info/SOURCES.txt'\n",
            "reading manifest file 'en_yt_pipeline.egg-info/SOURCES.txt'\n",
            "reading manifest template 'MANIFEST.in'\n",
            "warning: no files found matching 'LICENSE'\n",
            "warning: no files found matching 'LICENSES_SOURCES'\n",
            "writing manifest file 'en_yt_pipeline.egg-info/SOURCES.txt'\n",
            "Copying en_yt_pipeline.egg-info to build/bdist.linux-x86_64/wheel/en_yt_pipeline-0.0.0-py3.7.egg-info\n",
            "running install_scripts\n",
            "creating build/bdist.linux-x86_64/wheel/en_yt_pipeline-0.0.0.dist-info/WHEEL\n",
            "creating 'dist/en_yt_pipeline-0.0.0-py3-none-any.whl' and adding 'build/bdist.linux-x86_64/wheel' to it\n",
            "adding 'en_yt_pipeline/__init__.py'\n",
            "adding 'en_yt_pipeline/meta.json'\n",
            "adding 'en_yt_pipeline/en_yt_pipeline-0.0.0/README.md'\n",
            "adding 'en_yt_pipeline/en_yt_pipeline-0.0.0/config.cfg'\n",
            "adding 'en_yt_pipeline/en_yt_pipeline-0.0.0/meta.json'\n",
            "adding 'en_yt_pipeline/en_yt_pipeline-0.0.0/tokenizer'\n",
            "adding 'en_yt_pipeline/en_yt_pipeline-0.0.0/ner/cfg'\n",
            "adding 'en_yt_pipeline/en_yt_pipeline-0.0.0/ner/model'\n",
            "adding 'en_yt_pipeline/en_yt_pipeline-0.0.0/ner/moves'\n",
            "adding 'en_yt_pipeline/en_yt_pipeline-0.0.0/tok2vec/cfg'\n",
            "adding 'en_yt_pipeline/en_yt_pipeline-0.0.0/tok2vec/model'\n",
            "adding 'en_yt_pipeline/en_yt_pipeline-0.0.0/vocab/key2row'\n",
            "adding 'en_yt_pipeline/en_yt_pipeline-0.0.0/vocab/lookups.bin'\n",
            "adding 'en_yt_pipeline/en_yt_pipeline-0.0.0/vocab/strings.json'\n",
            "tcmalloc: large alloc 1073750016 bytes == 0x66fa0000 @  0x7fa727dd42a4 0x58ead6 0x441ff3 0x5d1f81 0x442b2b 0x4d222f 0x51041f 0x58fd37 0x50ca37 0x5b4ee6 0x58ff2e 0x510325 0x5b4ee6 0x58ff2e 0x50ca37 0x5b4ee6 0x58ff2e 0x50ca37 0x58fd37 0x50ca37 0x58fd37 0x510325 0x58fd37 0x50ca37 0x58fd37 0x50ca37 0x5b4ee6 0x4bad0a 0x50e18c 0x5b4ee6 0x58ff2e\n",
            "adding 'en_yt_pipeline/en_yt_pipeline-0.0.0/vocab/vectors'\n",
            "adding 'en_yt_pipeline/en_yt_pipeline-0.0.0/vocab/vectors.cfg'\n",
            "adding 'en_yt_pipeline-0.0.0.dist-info/METADATA'\n",
            "adding 'en_yt_pipeline-0.0.0.dist-info/WHEEL'\n",
            "adding 'en_yt_pipeline-0.0.0.dist-info/entry_points.txt'\n",
            "adding 'en_yt_pipeline-0.0.0.dist-info/top_level.txt'\n",
            "adding 'en_yt_pipeline-0.0.0.dist-info/RECORD'\n",
            "removing build/bdist.linux-x86_64/wheel\n",
            "\u001b[38;5;2m✔ Successfully created binary wheel\u001b[0m\n",
            "/content/output/en_yt_pipeline-0.0.0/dist/en_yt_pipeline-0.0.0-py3-none-any.whl\n"
          ]
        }
      ]
    },
    {
      "cell_type": "code",
      "source": [
        "!pip install spacy-huggingface-hub"
      ],
      "metadata": {
        "id": "9dTX-R7TsrPP"
      },
      "execution_count": null,
      "outputs": []
    },
    {
      "cell_type": "code",
      "source": [
        "!huggingface-cli login"
      ],
      "metadata": {
        "colab": {
          "base_uri": "https://localhost:8080/"
        },
        "id": "mXAJzPzWr904",
        "outputId": "7b351b3a-33f2-423e-c5d5-8d137d0e3caa"
      },
      "execution_count": 10,
      "outputs": [
        {
          "output_type": "stream",
          "name": "stdout",
          "text": [
            "\n",
            "        _|    _|  _|    _|    _|_|_|    _|_|_|  _|_|_|  _|      _|    _|_|_|      _|_|_|_|    _|_|      _|_|_|  _|_|_|_|\n",
            "        _|    _|  _|    _|  _|        _|          _|    _|_|    _|  _|            _|        _|    _|  _|        _|\n",
            "        _|_|_|_|  _|    _|  _|  _|_|  _|  _|_|    _|    _|  _|  _|  _|  _|_|      _|_|_|    _|_|_|_|  _|        _|_|_|\n",
            "        _|    _|  _|    _|  _|    _|  _|    _|    _|    _|    _|_|  _|    _|      _|        _|    _|  _|        _|\n",
            "        _|    _|    _|_|      _|_|_|    _|_|_|  _|_|_|  _|      _|    _|_|_|      _|        _|    _|    _|_|_|  _|_|_|_|\n",
            "\n",
            "        To login, `huggingface_hub` now requires a token generated from https://huggingface.co/settings/tokens .\n",
            "        \n",
            "Token: \n",
            "Login successful\n",
            "Your token has been saved to /root/.huggingface/token\n"
          ]
        }
      ]
    },
    {
      "cell_type": "code",
      "source": [
        "# !git config --global credential.helper store"
      ],
      "metadata": {
        "id": "IBt1BWkask-L"
      },
      "execution_count": null,
      "outputs": []
    },
    {
      "cell_type": "code",
      "source": [
        "from spacy_huggingface_hub import push\n",
        "\n",
        "result = push(\"/content/output/en_yt_pipeline-0.0.0/dist/en_yt_pipeline-0.0.0-py3-none-any.whl\")"
      ],
      "metadata": {
        "colab": {
          "base_uri": "https://localhost:8080/"
        },
        "id": "cfEu7dvhu_rk",
        "outputId": "d4673a61-4e00-479c-8340-57a9af7995b6"
      },
      "execution_count": 11,
      "outputs": [
        {
          "output_type": "stream",
          "name": "stdout",
          "text": [
            "\u001b[38;5;4mℹ Publishing to repository 'pnichite/en_yt_pipeline'\u001b[0m\n",
            "result /tmp/tmpcxp_t808/en_yt_pipeline/meta.json en_yt_pipeline/meta.json\n",
            "result /tmp/tmpcxp_t808/en_yt_pipeline/en_yt_pipeline-0.0.0/README.md en_yt_pipeline/en_yt_pipeline-0.0.0/README.md\n",
            "result /tmp/tmpcxp_t808/en_yt_pipeline/en_yt_pipeline-0.0.0/config.cfg en_yt_pipeline/en_yt_pipeline-0.0.0/config.cfg\n",
            "result /tmp/tmpcxp_t808/en_yt_pipeline/en_yt_pipeline-0.0.0/meta.json en_yt_pipeline/en_yt_pipeline-0.0.0/meta.json\n",
            "result /tmp/tmpcxp_t808/en_yt_pipeline/en_yt_pipeline-0.0.0/tokenizer en_yt_pipeline/en_yt_pipeline-0.0.0/tokenizer\n",
            "result /tmp/tmpcxp_t808/en_yt_pipeline/en_yt_pipeline-0.0.0/ner/cfg en_yt_pipeline/en_yt_pipeline-0.0.0/ner/cfg\n",
            "result /tmp/tmpcxp_t808/en_yt_pipeline/en_yt_pipeline-0.0.0/ner/model en_yt_pipeline/en_yt_pipeline-0.0.0/ner/model\n",
            "result /tmp/tmpcxp_t808/en_yt_pipeline/en_yt_pipeline-0.0.0/ner/moves en_yt_pipeline/en_yt_pipeline-0.0.0/ner/moves\n",
            "result /tmp/tmpcxp_t808/en_yt_pipeline/en_yt_pipeline-0.0.0/tok2vec/cfg en_yt_pipeline/en_yt_pipeline-0.0.0/tok2vec/cfg\n",
            "result /tmp/tmpcxp_t808/en_yt_pipeline/en_yt_pipeline-0.0.0/tok2vec/model en_yt_pipeline/en_yt_pipeline-0.0.0/tok2vec/model\n",
            "result /tmp/tmpcxp_t808/en_yt_pipeline/en_yt_pipeline-0.0.0/vocab/key2row en_yt_pipeline/en_yt_pipeline-0.0.0/vocab/key2row\n",
            "result /tmp/tmpcxp_t808/en_yt_pipeline/en_yt_pipeline-0.0.0/vocab/lookups.bin en_yt_pipeline/en_yt_pipeline-0.0.0/vocab/lookups.bin\n",
            "result /tmp/tmpcxp_t808/en_yt_pipeline/en_yt_pipeline-0.0.0/vocab/strings.json en_yt_pipeline/en_yt_pipeline-0.0.0/vocab/strings.json\n",
            "result /tmp/tmpcxp_t808/en_yt_pipeline/en_yt_pipeline-0.0.0/vocab/vectors en_yt_pipeline/en_yt_pipeline-0.0.0/vocab/vectors\n",
            "result /tmp/tmpcxp_t808/en_yt_pipeline/en_yt_pipeline-0.0.0/vocab/vectors.cfg en_yt_pipeline/en_yt_pipeline-0.0.0/vocab/vectors.cfg\n",
            "result /tmp/tmpcxp_t808/en_yt_pipeline-0.0.0.dist-info/METADATA en_yt_pipeline-0.0.0.dist-info/METADATA\n",
            "result /tmp/tmpcxp_t808/en_yt_pipeline-0.0.0.dist-info/WHEEL en_yt_pipeline-0.0.0.dist-info/WHEEL\n",
            "result /tmp/tmpcxp_t808/en_yt_pipeline-0.0.0.dist-info/entry_points.txt en_yt_pipeline-0.0.0.dist-info/entry_points.txt\n",
            "result /tmp/tmpcxp_t808/en_yt_pipeline-0.0.0.dist-info/top_level.txt en_yt_pipeline-0.0.0.dist-info/top_level.txt\n",
            "result /tmp/tmpcxp_t808/en_yt_pipeline-0.0.0.dist-info/RECORD en_yt_pipeline-0.0.0.dist-info/RECORD\n",
            "\u001b[38;5;2m✔ Extracted information from .whl file\u001b[0m\n",
            "\u001b[38;5;2m✔ Created model card\u001b[0m\n",
            "en_yt_pipeline (v0.0.0)\n",
            "Pushing repository to the hub...\n",
            "\u001b[38;5;2m✔ Pushed repository 'en_yt_pipeline' to the hub\u001b[0m\n",
            "\n",
            "View your model here:\n",
            "https://huggingface.co/pnichite/en_yt_pipeline\n",
            "\n",
            "Install your model:\n",
            "pip install https://huggingface.co/pnichite/en_yt_pipeline/resolve/main/en_yt_pipeline-any-py3-none-any.whl\n"
          ]
        }
      ]
    },
    {
      "cell_type": "code",
      "source": [
        "!pip install https://huggingface.co/pnichite/en_yt_pipeline/resolve/main/en_yt_pipeline-any-py3-none-any.whl"
      ],
      "metadata": {
        "id": "QEKTSVL2tcqv"
      },
      "execution_count": null,
      "outputs": []
    },
    {
      "cell_type": "code",
      "source": [
        "ner_model_yt = spacy.load('en_yt_pipeline')"
      ],
      "metadata": {
        "id": "0oOkjFM0v41F"
      },
      "execution_count": 13,
      "outputs": []
    },
    {
      "cell_type": "code",
      "source": [
        "doc = ner_model_yt(\"While bismuth compounds (Pepto-Bismol) decreased the number of bowel movements in those with travelers' diarrhea, they do not decrease the length of illness.[91] Anti-motility agents like loperamide are also effective at reducing the number of stools but not the duration of disease.[8] These agents should be used only if bloody diarrhea is not present.\")\n",
        "\n",
        "colors = {\"PATHOGEN\": \"#F67DE3\", \"MEDICINE\": \"#7DF6D9\", \"MEDICALCONDITION\":\"#a6e22d\"}\n",
        "options = {\"colors\": colors} \n",
        "\n",
        "spacy.displacy.render(doc, style=\"ent\", options= options, jupyter=True)"
      ],
      "metadata": {
        "colab": {
          "base_uri": "https://localhost:8080/",
          "height": 122
        },
        "id": "cSAkq3UtwUlf",
        "outputId": "ad6a7a1c-59c4-47ca-e691-cf916e102fd8"
      },
      "execution_count": 14,
      "outputs": [
        {
          "output_type": "display_data",
          "data": {
            "text/plain": [
              "<IPython.core.display.HTML object>"
            ],
            "text/html": [
              "<span class=\"tex2jax_ignore\"><div class=\"entities\" style=\"line-height: 2.5; direction: ltr\">While \n",
              "<mark class=\"entity\" style=\"background: #F67DE3; padding: 0.45em 0.6em; margin: 0 0.25em; line-height: 1; border-radius: 0.35em;\">\n",
              "    bismuth compounds\n",
              "    <span style=\"font-size: 0.8em; font-weight: bold; line-height: 1; border-radius: 0.35em; vertical-align: middle; margin-left: 0.5rem\">PATHOGEN</span>\n",
              "</mark>\n",
              " (\n",
              "<mark class=\"entity\" style=\"background: #F67DE3; padding: 0.45em 0.6em; margin: 0 0.25em; line-height: 1; border-radius: 0.35em;\">\n",
              "    Pepto-\n",
              "    <span style=\"font-size: 0.8em; font-weight: bold; line-height: 1; border-radius: 0.35em; vertical-align: middle; margin-left: 0.5rem\">PATHOGEN</span>\n",
              "</mark>\n",
              "Bismol) decreased the number of bowel movements in those with travelers' \n",
              "<mark class=\"entity\" style=\"background: #a6e22d; padding: 0.45em 0.6em; margin: 0 0.25em; line-height: 1; border-radius: 0.35em;\">\n",
              "    diarrhea\n",
              "    <span style=\"font-size: 0.8em; font-weight: bold; line-height: 1; border-radius: 0.35em; vertical-align: middle; margin-left: 0.5rem\">MEDICALCONDITION</span>\n",
              "</mark>\n",
              ", they do not decrease the length of illness.[91] Anti-motility agents like \n",
              "<mark class=\"entity\" style=\"background: #7DF6D9; padding: 0.45em 0.6em; margin: 0 0.25em; line-height: 1; border-radius: 0.35em;\">\n",
              "    loperamide\n",
              "    <span style=\"font-size: 0.8em; font-weight: bold; line-height: 1; border-radius: 0.35em; vertical-align: middle; margin-left: 0.5rem\">MEDICINE</span>\n",
              "</mark>\n",
              " are also effective at reducing the number of stools but not the duration of disease.[8] These agents should be used only if bloody diarrhea is not present.</div></span>"
            ]
          },
          "metadata": {}
        }
      ]
    },
    {
      "cell_type": "code",
      "source": [
        "!pip install https://huggingface.co/pnichite/en_yt_pipeline/resolve/main/en_yt_pipeline-any-py3-none-any.whl"
      ],
      "metadata": {
        "colab": {
          "base_uri": "https://localhost:8080/"
        },
        "id": "Zgo5ZsQywvRr",
        "outputId": "dfe36257-b078-4cb8-e77b-9cedd769a74e"
      },
      "execution_count": 15,
      "outputs": [
        {
          "output_type": "stream",
          "name": "stdout",
          "text": [
            "Looking in indexes: https://pypi.org/simple, https://us-python.pkg.dev/colab-wheels/public/simple/\n",
            "Collecting en-yt-pipeline==any\n",
            "User for huggingface.co: pnichite\n",
            "Password: \n",
            "  Downloading https://huggingface.co/pnichite/en_yt_pipeline/resolve/main/en_yt_pipeline-any-py3-none-any.whl (606.6 MB)\n",
            "\u001b[K     |████████████████████████████████| 606.6 MB 16 kB/s \n",
            "\u001b[?25hRequirement already satisfied: spacy<3.5.0,>=3.4.2 in /usr/local/lib/python3.7/dist-packages (from en-yt-pipeline==any) (3.4.2)\n",
            "Requirement already satisfied: langcodes<4.0.0,>=3.2.0 in /usr/local/lib/python3.7/dist-packages (from spacy<3.5.0,>=3.4.2->en-yt-pipeline==any) (3.3.0)\n",
            "Requirement already satisfied: srsly<3.0.0,>=2.4.3 in /usr/local/lib/python3.7/dist-packages (from spacy<3.5.0,>=3.4.2->en-yt-pipeline==any) (2.4.5)\n",
            "Requirement already satisfied: numpy>=1.15.0 in /usr/local/lib/python3.7/dist-packages (from spacy<3.5.0,>=3.4.2->en-yt-pipeline==any) (1.21.6)\n",
            "Requirement already satisfied: thinc<8.2.0,>=8.1.0 in /usr/local/lib/python3.7/dist-packages (from spacy<3.5.0,>=3.4.2->en-yt-pipeline==any) (8.1.5)\n",
            "Requirement already satisfied: pathy>=0.3.5 in /usr/local/lib/python3.7/dist-packages (from spacy<3.5.0,>=3.4.2->en-yt-pipeline==any) (0.6.2)\n",
            "Requirement already satisfied: murmurhash<1.1.0,>=0.28.0 in /usr/local/lib/python3.7/dist-packages (from spacy<3.5.0,>=3.4.2->en-yt-pipeline==any) (1.0.9)\n",
            "Requirement already satisfied: catalogue<2.1.0,>=2.0.6 in /usr/local/lib/python3.7/dist-packages (from spacy<3.5.0,>=3.4.2->en-yt-pipeline==any) (2.0.8)\n",
            "Requirement already satisfied: cymem<2.1.0,>=2.0.2 in /usr/local/lib/python3.7/dist-packages (from spacy<3.5.0,>=3.4.2->en-yt-pipeline==any) (2.0.7)\n",
            "Requirement already satisfied: requests<3.0.0,>=2.13.0 in /usr/local/lib/python3.7/dist-packages (from spacy<3.5.0,>=3.4.2->en-yt-pipeline==any) (2.23.0)\n",
            "Requirement already satisfied: pydantic!=1.8,!=1.8.1,<1.11.0,>=1.7.4 in /usr/local/lib/python3.7/dist-packages (from spacy<3.5.0,>=3.4.2->en-yt-pipeline==any) (1.10.2)\n",
            "Requirement already satisfied: typer<0.5.0,>=0.3.0 in /usr/local/lib/python3.7/dist-packages (from spacy<3.5.0,>=3.4.2->en-yt-pipeline==any) (0.4.2)\n",
            "Requirement already satisfied: wasabi<1.1.0,>=0.9.1 in /usr/local/lib/python3.7/dist-packages (from spacy<3.5.0,>=3.4.2->en-yt-pipeline==any) (0.10.1)\n",
            "Requirement already satisfied: tqdm<5.0.0,>=4.38.0 in /usr/local/lib/python3.7/dist-packages (from spacy<3.5.0,>=3.4.2->en-yt-pipeline==any) (4.64.1)\n",
            "Requirement already satisfied: typing-extensions<4.2.0,>=3.7.4 in /usr/local/lib/python3.7/dist-packages (from spacy<3.5.0,>=3.4.2->en-yt-pipeline==any) (4.1.1)\n",
            "Requirement already satisfied: spacy-legacy<3.1.0,>=3.0.10 in /usr/local/lib/python3.7/dist-packages (from spacy<3.5.0,>=3.4.2->en-yt-pipeline==any) (3.0.10)\n",
            "Requirement already satisfied: packaging>=20.0 in /usr/local/lib/python3.7/dist-packages (from spacy<3.5.0,>=3.4.2->en-yt-pipeline==any) (21.3)\n",
            "Requirement already satisfied: setuptools in /usr/local/lib/python3.7/dist-packages (from spacy<3.5.0,>=3.4.2->en-yt-pipeline==any) (57.4.0)\n",
            "Requirement already satisfied: spacy-loggers<2.0.0,>=1.0.0 in /usr/local/lib/python3.7/dist-packages (from spacy<3.5.0,>=3.4.2->en-yt-pipeline==any) (1.0.3)\n",
            "Requirement already satisfied: preshed<3.1.0,>=3.0.2 in /usr/local/lib/python3.7/dist-packages (from spacy<3.5.0,>=3.4.2->en-yt-pipeline==any) (3.0.8)\n",
            "Requirement already satisfied: jinja2 in /usr/local/lib/python3.7/dist-packages (from spacy<3.5.0,>=3.4.2->en-yt-pipeline==any) (2.11.3)\n",
            "Requirement already satisfied: zipp>=0.5 in /usr/local/lib/python3.7/dist-packages (from catalogue<2.1.0,>=2.0.6->spacy<3.5.0,>=3.4.2->en-yt-pipeline==any) (3.10.0)\n",
            "Requirement already satisfied: pyparsing!=3.0.5,>=2.0.2 in /usr/local/lib/python3.7/dist-packages (from packaging>=20.0->spacy<3.5.0,>=3.4.2->en-yt-pipeline==any) (3.0.9)\n",
            "Requirement already satisfied: smart-open<6.0.0,>=5.2.1 in /usr/local/lib/python3.7/dist-packages (from pathy>=0.3.5->spacy<3.5.0,>=3.4.2->en-yt-pipeline==any) (5.2.1)\n",
            "Requirement already satisfied: certifi>=2017.4.17 in /usr/local/lib/python3.7/dist-packages (from requests<3.0.0,>=2.13.0->spacy<3.5.0,>=3.4.2->en-yt-pipeline==any) (2022.9.24)\n",
            "Requirement already satisfied: chardet<4,>=3.0.2 in /usr/local/lib/python3.7/dist-packages (from requests<3.0.0,>=2.13.0->spacy<3.5.0,>=3.4.2->en-yt-pipeline==any) (3.0.4)\n",
            "Requirement already satisfied: urllib3!=1.25.0,!=1.25.1,<1.26,>=1.21.1 in /usr/local/lib/python3.7/dist-packages (from requests<3.0.0,>=2.13.0->spacy<3.5.0,>=3.4.2->en-yt-pipeline==any) (1.24.3)\n",
            "Requirement already satisfied: idna<3,>=2.5 in /usr/local/lib/python3.7/dist-packages (from requests<3.0.0,>=2.13.0->spacy<3.5.0,>=3.4.2->en-yt-pipeline==any) (2.10)\n",
            "Requirement already satisfied: blis<0.8.0,>=0.7.8 in /usr/local/lib/python3.7/dist-packages (from thinc<8.2.0,>=8.1.0->spacy<3.5.0,>=3.4.2->en-yt-pipeline==any) (0.7.9)\n",
            "Requirement already satisfied: confection<1.0.0,>=0.0.1 in /usr/local/lib/python3.7/dist-packages (from thinc<8.2.0,>=8.1.0->spacy<3.5.0,>=3.4.2->en-yt-pipeline==any) (0.0.3)\n",
            "Requirement already satisfied: click<9.0.0,>=7.1.1 in /usr/local/lib/python3.7/dist-packages (from typer<0.5.0,>=0.3.0->spacy<3.5.0,>=3.4.2->en-yt-pipeline==any) (7.1.2)\n",
            "Requirement already satisfied: MarkupSafe>=0.23 in /usr/local/lib/python3.7/dist-packages (from jinja2->spacy<3.5.0,>=3.4.2->en-yt-pipeline==any) (2.0.1)\n"
          ]
        }
      ]
    },
    {
      "cell_type": "code",
      "source": [],
      "metadata": {
        "id": "JK-Uz87Q2xZX"
      },
      "execution_count": null,
      "outputs": []
    }
  ]
}