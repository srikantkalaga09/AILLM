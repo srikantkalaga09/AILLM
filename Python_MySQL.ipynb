{
  "nbformat": 4,
  "nbformat_minor": 0,
  "metadata": {
    "colab": {
      "provenance": [],
      "authorship_tag": "ABX9TyPiQ9/9jbqBv6JquFDnVkiy",
      "include_colab_link": true
    },
    "kernelspec": {
      "name": "python3",
      "display_name": "Python 3"
    },
    "language_info": {
      "name": "python"
    }
  },
  "cells": [
    {
      "cell_type": "markdown",
      "metadata": {
        "id": "view-in-github",
        "colab_type": "text"
      },
      "source": [
        "<a href=\"https://colab.research.google.com/github/PradipNichite/Youtube-Tutorials/blob/main/Python_MySQL.ipynb\" target=\"_parent\"><img src=\"https://colab.research.google.com/assets/colab-badge.svg\" alt=\"Open In Colab\"/></a>"
      ]
    },
    {
      "cell_type": "code",
      "source": [
        "!pip install mysql-connector-python\n"
      ],
      "metadata": {
        "colab": {
          "base_uri": "https://localhost:8080/"
        },
        "id": "lVvBmQr-DFTf",
        "outputId": "b36b13c4-b017-4c4c-c277-331b61387b44"
      },
      "execution_count": null,
      "outputs": [
        {
          "output_type": "stream",
          "name": "stdout",
          "text": [
            "Looking in indexes: https://pypi.org/simple, https://us-python.pkg.dev/colab-wheels/public/simple/\n",
            "Collecting mysql-connector-python\n",
            "  Downloading mysql_connector_python-8.0.33-cp310-cp310-manylinux1_x86_64.whl (27.4 MB)\n",
            "\u001b[2K     \u001b[90m━━━━━━━━━━━━━━━━━━━━━━━━━━━━━━━━━━━━━━━━\u001b[0m \u001b[32m27.4/27.4 MB\u001b[0m \u001b[31m40.3 MB/s\u001b[0m eta \u001b[36m0:00:00\u001b[0m\n",
            "\u001b[?25hRequirement already satisfied: protobuf<=3.20.3,>=3.11.0 in /usr/local/lib/python3.10/dist-packages (from mysql-connector-python) (3.20.3)\n",
            "Installing collected packages: mysql-connector-python\n",
            "Successfully installed mysql-connector-python-8.0.33\n"
          ]
        }
      ]
    },
    {
      "cell_type": "code",
      "source": [
        "import mysql.connector\n",
        "\n",
        "# Establish a connection to the database\n",
        "def create_connection():\n",
        "    connection = mysql.connector.connect(\n",
        "        host=\"\",\n",
        "        user=\"admin\",\n",
        "        password=\"Admin123\",\n",
        "        database=\"yt_demo\"\n",
        "    )\n",
        "    return connection"
      ],
      "metadata": {
        "id": "hDHpu8ytDO8p"
      },
      "execution_count": null,
      "outputs": []
    },
    {
      "cell_type": "code",
      "source": [
        "connection = create_connection()\n",
        "connection"
      ],
      "metadata": {
        "colab": {
          "base_uri": "https://localhost:8080/"
        },
        "id": "_38TSieKDq_r",
        "outputId": "d511aac0-f2ce-4b98-8400-2c7090c7298e"
      },
      "execution_count": null,
      "outputs": [
        {
          "output_type": "execute_result",
          "data": {
            "text/plain": [
              "<mysql.connector.connection_cext.CMySQLConnection at 0x7f337b852410>"
            ]
          },
          "metadata": {},
          "execution_count": 5
        }
      ]
    },
    {
      "cell_type": "code",
      "source": [
        "# Create a sample table\n",
        "def create_table(connection):\n",
        "    cursor = connection.cursor()\n",
        "    cursor.execute(\"CREATE TABLE IF NOT EXISTS sample (id INT AUTO_INCREMENT PRIMARY KEY, name VARCHAR(255), age INT)\")"
      ],
      "metadata": {
        "id": "OU2qHunPDZC3"
      },
      "execution_count": null,
      "outputs": []
    },
    {
      "cell_type": "code",
      "source": [
        "create_table(connection)"
      ],
      "metadata": {
        "id": "NoU9GTwaE1kq"
      },
      "execution_count": null,
      "outputs": []
    },
    {
      "cell_type": "code",
      "source": [
        "# Insert a record\n",
        "def insert_record(connection, name, age):\n",
        "    cursor = connection.cursor()\n",
        "    query = \"INSERT INTO sample (name, age) VALUES (%s, %s)\"\n",
        "    cursor.execute(query, (name, age))\n",
        "    connection.commit()"
      ],
      "metadata": {
        "id": "-QGc9fzJDe1f"
      },
      "execution_count": null,
      "outputs": []
    },
    {
      "cell_type": "code",
      "source": [
        "insert_record(connection, \"John Doe\", 30)\n",
        "insert_record(connection, \"Jane Smith\", 28)"
      ],
      "metadata": {
        "id": "OdK1op3fE5Ha"
      },
      "execution_count": null,
      "outputs": []
    },
    {
      "cell_type": "code",
      "source": [
        "# Select records\n",
        "def select_records(connection):\n",
        "    cursor = connection.cursor()\n",
        "    cursor.execute(\"SELECT * FROM sample\")\n",
        "    rows = cursor.fetchall()\n",
        "    for row in rows:\n",
        "        print(row)"
      ],
      "metadata": {
        "id": "_qmAmoVdFBjn"
      },
      "execution_count": null,
      "outputs": []
    },
    {
      "cell_type": "code",
      "source": [
        "select_records(connection)"
      ],
      "metadata": {
        "colab": {
          "base_uri": "https://localhost:8080/"
        },
        "id": "Ip4wl2ymFFOB",
        "outputId": "a0b583c2-5f9b-4fb8-9a06-4bc43c82f24f"
      },
      "execution_count": null,
      "outputs": [
        {
          "output_type": "stream",
          "name": "stdout",
          "text": [
            "(1, 'John Doe', 30)\n",
            "(2, 'Jane Smith', 28)\n"
          ]
        }
      ]
    },
    {
      "cell_type": "code",
      "source": [
        "# Update a record\n",
        "def update_record(connection, name, age, id):\n",
        "    cursor = connection.cursor()\n",
        "    query = \"UPDATE sample SET name = %s, age = %s WHERE id = %s\"\n",
        "    cursor.execute(query, (name, age, id))\n",
        "    connection.commit()"
      ],
      "metadata": {
        "id": "HLvC4PDvDjhZ"
      },
      "execution_count": null,
      "outputs": []
    },
    {
      "cell_type": "code",
      "source": [
        "update_record(connection, \"John Doe\", 31, 1)\n",
        "select_records(connection)"
      ],
      "metadata": {
        "colab": {
          "base_uri": "https://localhost:8080/"
        },
        "id": "Slp4KKY8FNIh",
        "outputId": "5ba6eaee-e6f6-4dbf-bdb6-4354fb4afd17"
      },
      "execution_count": null,
      "outputs": [
        {
          "output_type": "stream",
          "name": "stdout",
          "text": [
            "(1, 'John Doe', 31)\n",
            "(2, 'Jane Smith', 28)\n"
          ]
        }
      ]
    },
    {
      "cell_type": "code",
      "source": [
        "# Delete a record\n",
        "def delete_record(connection, id):\n",
        "    cursor = connection.cursor()\n",
        "    query = \"DELETE FROM sample WHERE id = %s\"\n",
        "    cursor.execute(query, (id,))\n",
        "    connection.commit()\n",
        "delete_record(connection, 1)"
      ],
      "metadata": {
        "id": "EF0RS4fEFUA9"
      },
      "execution_count": null,
      "outputs": []
    },
    {
      "cell_type": "code",
      "source": [
        "select_records(connection)"
      ],
      "metadata": {
        "colab": {
          "base_uri": "https://localhost:8080/"
        },
        "id": "YnVq2WZJFa4o",
        "outputId": "e6661d81-4f33-4fa6-bfb3-40578b2bf453"
      },
      "execution_count": null,
      "outputs": [
        {
          "output_type": "stream",
          "name": "stdout",
          "text": [
            "(2, 'Jane Smith', 28)\n"
          ]
        }
      ]
    },
    {
      "cell_type": "code",
      "source": [
        "\n",
        "\n",
        "# ...\n",
        "\n",
        "# Insert multiple records\n",
        "def insert_multiple_records(connection, records):\n",
        "    cursor = connection.cursor()\n",
        "    query = \"INSERT INTO sample (name, age) VALUES (%s, %s)\"\n",
        "    cursor.executemany(query, records)\n",
        "    connection.commit()\n",
        "\n",
        "# Main function to perform all operations\n",
        "\n",
        "\n",
        "records = [(\"John1 Doe\", 30), (\"Jane1 Smith\", 28), (\"Alice Brown\", 24)]\n",
        "insert_multiple_records(connection, records)"
      ],
      "metadata": {
        "id": "nZ26Vsx7Fody"
      },
      "execution_count": null,
      "outputs": []
    },
    {
      "cell_type": "code",
      "source": [
        "select_records(connection)"
      ],
      "metadata": {
        "id": "zPfTMCr-F26M",
        "outputId": "3edde00e-157c-4dfe-c2b6-f329689f6193",
        "colab": {
          "base_uri": "https://localhost:8080/"
        }
      },
      "execution_count": null,
      "outputs": [
        {
          "output_type": "stream",
          "name": "stdout",
          "text": [
            "(2, 'Jane Smith', 28)\n",
            "(3, 'John1 Doe', 30)\n",
            "(4, 'Jane1 Smith', 28)\n",
            "(5, 'Alice Brown', 24)\n"
          ]
        }
      ]
    }
  ]
}