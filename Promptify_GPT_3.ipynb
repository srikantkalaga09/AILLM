{
  "nbformat": 4,
  "nbformat_minor": 0,
  "metadata": {
    "colab": {
      "provenance": [],
      "authorship_tag": "ABX9TyModoqLnKGVIQT69tk+metI",
      "include_colab_link": true
    },
    "kernelspec": {
      "name": "python3",
      "display_name": "Python 3"
    },
    "language_info": {
      "name": "python"
    }
  },
  "cells": [
    {
      "cell_type": "markdown",
      "metadata": {
        "id": "view-in-github",
        "colab_type": "text"
      },
      "source": [
        "<a href=\"https://colab.research.google.com/github/PradipNichite/Youtube-Tutorials/blob/main/Promptify_GPT_3.ipynb\" target=\"_parent\"><img src=\"https://colab.research.google.com/assets/colab-badge.svg\" alt=\"Open In Colab\"/></a>"
      ]
    },
    {
      "cell_type": "code",
      "execution_count": null,
      "metadata": {
        "id": "fuAQVCr_XVqd"
      },
      "outputs": [],
      "source": [
        "!pip install promptify -q"
      ]
    },
    {
      "cell_type": "code",
      "source": [
        "import json\n",
        "from promptify.models.nlp.openai_model import OpenAI\n",
        "from promptify.prompts.nlp.prompter import Prompter\n",
        "from pprint import pprint"
      ],
      "metadata": {
        "id": "cIkaAuSpYW_c"
      },
      "execution_count": 3,
      "outputs": []
    },
    {
      "cell_type": "code",
      "source": [
        "api_key  = \"key\"\n",
        "\n",
        "model = OpenAI(api_key)\n",
        "nlp_prompter = Prompter(model)\n",
        "\n",
        "sent = \"The patient is a 93-year-old female with a medical history of chronic right hip pain, osteoporosis, hypertension, depression, and chronic atrial fibrillation admitted for evaluation and management of severe nausea and vomiting and urinary tract infection\"\n",
        "print(sent)"
      ],
      "metadata": {
        "colab": {
          "base_uri": "https://localhost:8080/"
        },
        "id": "YCCK1qsDXbPM",
        "outputId": "fb3968dd-3269-4fda-822c-962c211e3e7c"
      },
      "execution_count": 4,
      "outputs": [
        {
          "output_type": "stream",
          "name": "stdout",
          "text": [
            "The patient is a 93-year-old female with a medical history of chronic right hip pain, osteoporosis, hypertension, depression, and chronic atrial fibrillation admitted for evaluation and management of severe nausea and vomiting and urinary tract infection\n"
          ]
        }
      ]
    },
    {
      "cell_type": "markdown",
      "source": [
        "### 1: Named Entity Recognition (NER) : Zero Shot Example"
      ],
      "metadata": {
        "id": "3vzZLbrmYq-w"
      }
    },
    {
      "cell_type": "code",
      "source": [
        "result = nlp_prompter.fit('ner.jinja',\n",
        "                          domain      = 'medical',\n",
        "                          text_input  = sent, \n",
        "                          labels      = None)\n",
        "\n",
        "pprint(eval(result['text']))"
      ],
      "metadata": {
        "colab": {
          "base_uri": "https://localhost:8080/"
        },
        "id": "Z-vszScfXqp7",
        "outputId": "8f85f325-dbea-44df-bb9d-65b53631a0ec"
      },
      "execution_count": 5,
      "outputs": [
        {
          "output_type": "stream",
          "name": "stdout",
          "text": [
            "[{'E': '93-year-old', 'T': 'Age'},\n",
            " {'E': 'chronic right hip pain', 'T': 'Medical Condition'},\n",
            " {'E': 'osteoporosis', 'T': 'Medical Condition'},\n",
            " {'E': 'hypertension', 'T': 'Medical Condition'},\n",
            " {'E': 'depression', 'T': 'Medical Condition'},\n",
            " {'E': 'chronic atrial fibrillation', 'T': 'Medical Condition'},\n",
            " {'E': 'severe nausea and vomiting', 'T': 'Symptom'},\n",
            " {'E': 'urinary tract infection', 'T': 'Medical Condition'},\n",
            " {'Branch': 'Internal Medicine', 'Group': 'Geriatrics'}]\n"
          ]
        }
      ]
    },
    {
      "cell_type": "code",
      "source": [
        "result = nlp_prompter.fit('ner.jinja',\n",
        "                          domain      = 'mobile',\n",
        "                          text_input  = \"Redmi Note 12 5G Specs: Snapdragon® 4 Gen 1, 33W Fast Charging, 48 MP AI Triple Camera, Super Amoled, Ultra Slim, 120Hz Refresh Rate, India Ready 5G.\", \n",
        "                          labels      = None)\n",
        "\n",
        "pprint(eval(result['text']))"
      ],
      "metadata": {
        "colab": {
          "base_uri": "https://localhost:8080/"
        },
        "id": "qTiFPxOndTUc",
        "outputId": "486851c3-c4a6-4099-dd1c-c6a85fdefd0f"
      },
      "execution_count": 7,
      "outputs": [
        {
          "output_type": "stream",
          "name": "stdout",
          "text": [
            "[{'E': 'Redmi Note 12 5G', 'T': 'Device'},\n",
            " {'E': 'Snapdragon® 4 Gen 1', 'T': 'Processor'},\n",
            " {'E': '33W Fast Charging', 'T': 'Charging'},\n",
            " {'E': '48 MP AI Triple Camera', 'T': 'Camera'},\n",
            " {'E': 'Super Amoled', 'T': 'Display'},\n",
            " {'E': 'Ultra Slim', 'T': 'Design'},\n",
            " {'E': '120Hz Refresh Rate', 'T': 'Refresh Rate'},\n",
            " {'E': 'India Ready 5G', 'T': 'Network'},\n",
            " {'Branch': 'Mobile', 'Group': 'Specifications'}]\n"
          ]
        }
      ]
    },
    {
      "cell_type": "markdown",
      "source": [
        "###2 : Named Entity Recognition (NER) with Custom Tags/Entitie"
      ],
      "metadata": {
        "id": "0764rVlxYmY6"
      }
    },
    {
      "cell_type": "code",
      "source": [
        "result = nlp_prompter.fit('ner.jinja',\n",
        "                          domain      = 'medical',\n",
        "                          text_input  = sent, \n",
        "                          labels      = [\"SYMPTOM\", \"DISEASE\"])\n",
        "\n",
        "pprint(eval(result['text']))"
      ],
      "metadata": {
        "colab": {
          "base_uri": "https://localhost:8080/"
        },
        "id": "YJ13qkfqXx0j",
        "outputId": "bcda9b46-0f90-4b06-d45a-7fc236aa2877"
      },
      "execution_count": 8,
      "outputs": [
        {
          "output_type": "stream",
          "name": "stdout",
          "text": [
            "[{'E': 'nausea and vomiting', 'T': 'SYMPTOM'},\n",
            " {'E': 'urinary tract infection', 'T': 'SYMPTOM'},\n",
            " {'E': 'osteoporosis', 'T': 'DISEASE'},\n",
            " {'E': 'hypertension', 'T': 'DISEASE'},\n",
            " {'E': 'depression', 'T': 'DISEASE'},\n",
            " {'E': 'chronic atrial fibrillation', 'T': 'DISEASE'},\n",
            " {'branch': 'Medical', 'group': 'History'}]\n"
          ]
        }
      ]
    },
    {
      "cell_type": "markdown",
      "source": [
        "###3 : Named Entity Recognition (NER) with One shot Example "
      ],
      "metadata": {
        "id": "B2MldwY9Z38-"
      }
    },
    {
      "cell_type": "code",
      "source": [
        "one_shot = \"Leptomeningeal metastases (LM) occur in patients with breast cancer (BC) and lung cancer (LC). The cerebrospinal fluid (CSF) tumour microenvironment (TME) of LM patients is not well defined at a single-cell level. We did an analysis based on single-cell RNA sequencing (scRNA-seq) data and four patient-derived CSF samples of idiopathic intracranial hypertension (IIH)\"\n",
        "one_shot = [[one_shot, [{'E': 'DISEASE', 'T': 'Leptomeningeal metastases'}, {'E': 'DISEASE', 'T': 'breast cancer'}, {'E': 'DISEASE', 'T': 'lung cancer'}, {'E': 'BIOMARKER', 'T': 'cerebrospinal fluid'}, {'E': 'DISEASE', 'T': 'tumour microenvironment'}, {'E': 'TEST', 'T': 'single-cell RNA sequencing'}, {'E': 'DISEASE', 'T': 'idiopathic intracranial hypertension'}]]]\n",
        "\n",
        "\n",
        "result = nlp_prompter.fit('ner.jinja',\n",
        "                          domain      = 'medical',\n",
        "                          text_input  = sent,\n",
        "                          examples    = one_shot,\n",
        "                          labels      = [\"SYMPTOM\", \"DISEASE\"])\n",
        "\n",
        "\n",
        "pprint(eval(result['text']))"
      ],
      "metadata": {
        "colab": {
          "base_uri": "https://localhost:8080/"
        },
        "id": "FZ_iknp7ZU8S",
        "outputId": "8bc7ffb0-d75c-4017-a78d-7f6438097626"
      },
      "execution_count": 10,
      "outputs": [
        {
          "output_type": "stream",
          "name": "stdout",
          "text": [
            "[[{'E': 'SYMPTOM', 'T': 'chronic right hip pain'},\n",
            "  {'E': 'DISEASE', 'T': 'osteoporosis'},\n",
            "  {'E': 'DISEASE', 'T': 'hypertension'},\n",
            "  {'E': 'DISEASE', 'T': 'depression'},\n",
            "  {'E': 'DISEASE', 'T': 'chronic atrial fibrillation'},\n",
            "  {'E': 'SYMPTOM', 'T': 'severe nausea and vomiting'},\n",
            "  {'E': 'DISEASE', 'T': 'urinary tract infection'}]]\n"
          ]
        }
      ]
    },
    {
      "cell_type": "markdown",
      "source": [
        "### 4: Question-Answering"
      ],
      "metadata": {
        "id": "K797YFEzbBmg"
      }
    },
    {
      "cell_type": "code",
      "source": [
        "result = nlp_prompter.fit('qa.jinja',\n",
        "                                      context=sent,\n",
        "                                      question=\"what is the main problem with patient?\",\n",
        "                                      domain=\"medical\",\n",
        "                                     )\n",
        "\n",
        "\n",
        "pprint(eval(result['text']))"
      ],
      "metadata": {
        "colab": {
          "base_uri": "https://localhost:8080/"
        },
        "id": "ukDOudd3aFvR",
        "outputId": "bedd60d3-1dd1-413c-b64a-1af66e2c5d37"
      },
      "execution_count": 11,
      "outputs": [
        {
          "output_type": "stream",
          "name": "stdout",
          "text": [
            "[{'A': 'Severe nausea and vomiting and urinary tract infection'}]\n"
          ]
        }
      ]
    },
    {
      "cell_type": "markdown",
      "source": [
        "###5 : Question-Answering Generation"
      ],
      "metadata": {
        "id": "L9OA6rUga-c6"
      }
    },
    {
      "cell_type": "code",
      "source": [
        "context = \"The rabbit-hole went straight on like a tunnel for some way, and then dipped suddenly down, so suddenly that Alice had not a moment to think about stopping herself before she found herself falling down a very deep well.\"\n",
        "result = nlp_prompter.fit('qa_gen.jinja',\n",
        "                                      text_input=context,\n",
        "                                      domain=\"story\",\n",
        "                                      total_questions=3,\n",
        "                                      max_QA_tokens=10\n",
        "                                     )\n",
        "\n",
        "\n",
        "pprint(eval(result['text']))"
      ],
      "metadata": {
        "colab": {
          "base_uri": "https://localhost:8080/"
        },
        "id": "X7K-4hmra8Ar",
        "outputId": "ce32b7a7-9e59-4443-9d1d-8de20e3c9962"
      },
      "execution_count": 29,
      "outputs": [
        {
          "output_type": "stream",
          "name": "stdout",
          "text": [
            "[{'A': 'Alice found herself falling down a very deep well.',\n",
            "  'Q': 'What happened when Alice went down the rabbit-hole?'},\n",
            " {'A': 'It was very deep.', 'Q': 'How deep was the well Alice fell into?'},\n",
            " {'A': 'The rabbit-hole went straight on like a tunnel for some way, and then '\n",
            "       'dipped suddenly down, so suddenly that Alice had not a moment to think '\n",
            "       'about stopping herself.',\n",
            "  'Q': 'How did Alice end up falling down the well?'}]\n"
          ]
        }
      ]
    },
    {
      "cell_type": "code",
      "source": [],
      "metadata": {
        "id": "xe2u7Y1ZbUvO"
      },
      "execution_count": null,
      "outputs": []
    }
  ]
}